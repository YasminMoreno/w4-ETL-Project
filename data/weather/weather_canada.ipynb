{
 "cells": [
  {
   "cell_type": "code",
   "execution_count": 306,
   "id": "6c3d5b85",
   "metadata": {},
   "outputs": [],
   "source": [
    "import requests as req\n",
    "\n",
    "import pandas as pd\n",
    "\n",
    "import numpy as np\n",
    "\n",
    "from bs4 import BeautifulSoup"
   ]
  },
  {
   "cell_type": "code",
   "execution_count": 307,
   "id": "e447067f",
   "metadata": {},
   "outputs": [],
   "source": [
    "# Enero"
   ]
  },
  {
   "cell_type": "code",
   "execution_count": 308,
   "id": "4ada1e5d",
   "metadata": {},
   "outputs": [],
   "source": [
    "url = 'https://www.aerisweather.com/weather/local/ca/on/ottawa/history/2022/01/01'"
   ]
  },
  {
   "cell_type": "code",
   "execution_count": 309,
   "id": "fff898aa",
   "metadata": {},
   "outputs": [
    {
     "data": {
      "text/plain": [
       "'\\n\\n<!DOCTYPE html>\\n<html>\\n<head>\\n \\n\\t\\n\\n\\t<meta charset=\"utf-8\">\\n\\t<meta http-equiv=\"X-UA-Compatible\" content=\"IE=edge,chrome=1\">\\n\\n\\t\\t\\t\\t\\t<meta name=\"viewport\" content=\"width=device-width, user-scalable=no\">\\n\\t<meta name=\"referrer\" content=\"no-referrer-when-downgrade\">\\n\\t<meta name=\"google-site-verification\" content=\"zaVWNz8Jzaz9v1j2VX5EGaHxVkyQVs7muWagH-FKm9g\" />\\n\\n\\n\\n\\t<meta name=\"twitter:card\" content=\"summary\" />\\n\\t<meta name=\"twitter:site\" content=\"@AerisWeather\" />\\n\\t<meta name=\"facebook-domain-verification\" content=\"2xslsk2ga5vhyb34835hlozadsli9s\" />\\n\\n\\t<link href=\"//www.aerisweather.com/css/styles.css?v=2022081502\" rel=\"stylesheet\" type=\"text/css\">\\n\\t\\n\\t<script type=\"text/javascript\">\\n\\tvar AerisWx = { rootUrl: \\'//www.aerisweather.com\\' };\\n\\twindow.dataLayer = window.dataLayer || [];\\n\\n\\t</script>\\n\\t\\n\\n\\n\\n<!-- Google Tag Manager (Prod) -->\\n<script>(function(w,d,s,l,i){w[l]=w[l]||[];w[l].push({\\'gtm.start\\':\\nnew Date().getTime(),event:\\'gtm.js\\'});var f=d.getElementsByTagName(s)[0],\\nj=d.createElement(s),dl='"
      ]
     },
     "execution_count": 309,
     "metadata": {},
     "output_type": "execute_result"
    }
   ],
   "source": [
    "html=req.get(url).text\n",
    "\n",
    "html[:1000]"
   ]
  },
  {
   "cell_type": "code",
   "execution_count": 310,
   "id": "c64f3355",
   "metadata": {},
   "outputs": [
    {
     "data": {
      "text/plain": [
       "bs4.BeautifulSoup"
      ]
     },
     "execution_count": 310,
     "metadata": {},
     "output_type": "execute_result"
    }
   ],
   "source": [
    "soup= BeautifulSoup(html, 'html.parser')\n",
    "\n",
    "type(soup)"
   ]
  },
  {
   "cell_type": "code",
   "execution_count": 311,
   "id": "2009d3dc",
   "metadata": {},
   "outputs": [
    {
     "data": {
      "text/html": [
       "<div>\n",
       "<style scoped>\n",
       "    .dataframe tbody tr th:only-of-type {\n",
       "        vertical-align: middle;\n",
       "    }\n",
       "\n",
       "    .dataframe tbody tr th {\n",
       "        vertical-align: top;\n",
       "    }\n",
       "\n",
       "    .dataframe thead th {\n",
       "        text-align: right;\n",
       "    }\n",
       "</style>\n",
       "<table border=\"1\" class=\"dataframe\">\n",
       "  <thead>\n",
       "    <tr style=\"text-align: right;\">\n",
       "      <th></th>\n",
       "      <th>Hour</th>\n",
       "      <th>Borrar</th>\n",
       "      <th>Climate</th>\n",
       "      <th>Temp</th>\n",
       "      <th>Dew Point</th>\n",
       "      <th>Humidity</th>\n",
       "      <th>Winds</th>\n",
       "      <th>Pressure</th>\n",
       "      <th>Visibility</th>\n",
       "      <th>Precip</th>\n",
       "    </tr>\n",
       "  </thead>\n",
       "  <tbody>\n",
       "    <tr>\n",
       "      <th>23</th>\n",
       "      <td>16:00</td>\n",
       "      <td>NaN</td>\n",
       "      <td>Cloudy</td>\n",
       "      <td>1</td>\n",
       "      <td>-1</td>\n",
       "      <td>87</td>\n",
       "      <td>NNW 19</td>\n",
       "      <td>1008</td>\n",
       "      <td>19</td>\n",
       "      <td>NaN</td>\n",
       "    </tr>\n",
       "  </tbody>\n",
       "</table>\n",
       "</div>"
      ],
      "text/plain": [
       "     Hour Borrar Climate Temp Dew Point Humidity   Winds Pressure Visibility  \\\n",
       "23  16:00    NaN  Cloudy    1        -1       87  NNW 19     1008         19   \n",
       "\n",
       "   Precip  \n",
       "23    NaN  "
      ]
     },
     "execution_count": 311,
     "metadata": {},
     "output_type": "execute_result"
    }
   ],
   "source": [
    "canada_1_1=pd.read_clipboard()\n",
    "\n",
    "canada_1_1 = canada_1_1.T.reset_index().T\n",
    "\n",
    "canada_1_1.columns = [\"Hour\",\"Borrar\",\"Climate\",\"Temp\",\"Dew Point\",\"Humidity\",\"Winds\",\"Pressure\",\"Visibility\", \"Precip\"]\n",
    "\n",
    "canada_1_1 = canada_1_1.reset_index(drop=True)\n",
    "\n",
    "canada_1_1_bien = canada_1_1.iloc [-1:]\n",
    "\n",
    "canada_1_1_bien"
   ]
  },
  {
   "cell_type": "code",
   "execution_count": 312,
   "id": "3518eba9",
   "metadata": {},
   "outputs": [],
   "source": [
    "# Febrero"
   ]
  },
  {
   "cell_type": "code",
   "execution_count": 313,
   "id": "cc46dc65",
   "metadata": {},
   "outputs": [],
   "source": [
    "url ='https://www.aerisweather.com/weather/local/ca/on/ottawa/history/2022/02/01'"
   ]
  },
  {
   "cell_type": "code",
   "execution_count": 314,
   "id": "1bb6cfb3",
   "metadata": {},
   "outputs": [
    {
     "data": {
      "text/plain": [
       "'\\n\\n<!DOCTYPE html>\\n<html>\\n<head>\\n \\n\\t\\n\\n\\t<meta charset=\"utf-8\">\\n\\t<meta http-equiv=\"X-UA-Compatible\" content=\"IE=edge,chrome=1\">\\n\\n\\t\\t\\t\\t\\t<meta name=\"viewport\" content=\"width=device-width, user-scalable=no\">\\n\\t<meta name=\"referrer\" content=\"no-referrer-when-downgrade\">\\n\\t<meta name=\"google-site-verification\" content=\"zaVWNz8Jzaz9v1j2VX5EGaHxVkyQVs7muWagH-FKm9g\" />\\n\\n\\n\\n\\t<meta name=\"twitter:card\" content=\"summary\" />\\n\\t<meta name=\"twitter:site\" content=\"@AerisWeather\" />\\n\\t<meta name=\"facebook-domain-verification\" content=\"2xslsk2ga5vhyb34835hlozadsli9s\" />\\n\\n\\t<link href=\"//www.aerisweather.com/css/styles.css?v=2022081502\" rel=\"stylesheet\" type=\"text/css\">\\n\\t\\n\\t<script type=\"text/javascript\">\\n\\tvar AerisWx = { rootUrl: \\'//www.aerisweather.com\\' };\\n\\twindow.dataLayer = window.dataLayer || [];\\n\\n\\t</script>\\n\\t\\n\\n\\n\\n<!-- Google Tag Manager (Prod) -->\\n<script>(function(w,d,s,l,i){w[l]=w[l]||[];w[l].push({\\'gtm.start\\':\\nnew Date().getTime(),event:\\'gtm.js\\'});var f=d.getElementsByTagName(s)[0],\\nj=d.createElement(s),dl='"
      ]
     },
     "execution_count": 314,
     "metadata": {},
     "output_type": "execute_result"
    }
   ],
   "source": [
    "html=req.get(url).text\n",
    "\n",
    "html[:1000]"
   ]
  },
  {
   "cell_type": "code",
   "execution_count": 315,
   "id": "b68398bb",
   "metadata": {},
   "outputs": [
    {
     "data": {
      "text/plain": [
       "bs4.BeautifulSoup"
      ]
     },
     "execution_count": 315,
     "metadata": {},
     "output_type": "execute_result"
    }
   ],
   "source": [
    "soup= BeautifulSoup(html, 'html.parser')\n",
    "\n",
    "type(soup)"
   ]
  },
  {
   "cell_type": "code",
   "execution_count": 316,
   "id": "c45ecf7d",
   "metadata": {},
   "outputs": [
    {
     "data": {
      "text/html": [
       "<div>\n",
       "<style scoped>\n",
       "    .dataframe tbody tr th:only-of-type {\n",
       "        vertical-align: middle;\n",
       "    }\n",
       "\n",
       "    .dataframe tbody tr th {\n",
       "        vertical-align: top;\n",
       "    }\n",
       "\n",
       "    .dataframe thead th {\n",
       "        text-align: right;\n",
       "    }\n",
       "</style>\n",
       "<table border=\"1\" class=\"dataframe\">\n",
       "  <thead>\n",
       "    <tr style=\"text-align: right;\">\n",
       "      <th></th>\n",
       "      <th>Hour</th>\n",
       "      <th>Borrar</th>\n",
       "      <th>Climate</th>\n",
       "      <th>Temp</th>\n",
       "      <th>Dew Point</th>\n",
       "      <th>Humidity</th>\n",
       "      <th>Winds</th>\n",
       "      <th>Pressure</th>\n",
       "      <th>Visibility</th>\n",
       "      <th>Precip</th>\n",
       "    </tr>\n",
       "  </thead>\n",
       "  <tbody>\n",
       "    <tr>\n",
       "      <th>16</th>\n",
       "      <td>16:00</td>\n",
       "      <td>NaN</td>\n",
       "      <td>Mostly Cloudy</td>\n",
       "      <td>-7</td>\n",
       "      <td>-13</td>\n",
       "      <td>63</td>\n",
       "      <td>E 22</td>\n",
       "      <td>1026</td>\n",
       "      <td>24</td>\n",
       "      <td>NaN</td>\n",
       "    </tr>\n",
       "  </tbody>\n",
       "</table>\n",
       "</div>"
      ],
      "text/plain": [
       "     Hour Borrar        Climate Temp Dew Point Humidity Winds Pressure  \\\n",
       "16  16:00    NaN  Mostly Cloudy   -7       -13       63  E 22     1026   \n",
       "\n",
       "   Visibility Precip  \n",
       "16         24    NaN  "
      ]
     },
     "execution_count": 316,
     "metadata": {},
     "output_type": "execute_result"
    }
   ],
   "source": [
    "canada_2_1=pd.read_clipboard()\n",
    "\n",
    "canada_2_1 = canada_2_1.T.reset_index().T\n",
    "\n",
    "canada_2_1.columns = [\"Hour\",\"Borrar\",\"Climate\",\"Temp\",\"Dew Point\",\"Humidity\",\"Winds\",\"Pressure\",\"Visibility\", \"Precip\"]\n",
    "\n",
    "canada_2_1 = canada_2_1.reset_index(drop=True)\n",
    "\n",
    "canada_2_1_bien = canada_2_1.iloc [-1:]\n",
    "\n",
    "canada_2_1_bien"
   ]
  },
  {
   "cell_type": "code",
   "execution_count": 317,
   "id": "ffdf33e5",
   "metadata": {},
   "outputs": [],
   "source": [
    "# Marzo"
   ]
  },
  {
   "cell_type": "code",
   "execution_count": 318,
   "id": "95660d49",
   "metadata": {},
   "outputs": [],
   "source": [
    "url = 'https://www.aerisweather.com/weather/local/ca/on/ottawa/history/2022/03/01'"
   ]
  },
  {
   "cell_type": "code",
   "execution_count": 319,
   "id": "0eceba70",
   "metadata": {},
   "outputs": [
    {
     "data": {
      "text/plain": [
       "'\\n\\n<!DOCTYPE html>\\n<html>\\n<head>\\n \\n\\t\\n\\n\\t<meta charset=\"utf-8\">\\n\\t<meta http-equiv=\"X-UA-Compatible\" content=\"IE=edge,chrome=1\">\\n\\n\\t\\t\\t\\t\\t<meta name=\"viewport\" content=\"width=device-width, user-scalable=no\">\\n\\t<meta name=\"referrer\" content=\"no-referrer-when-downgrade\">\\n\\t<meta name=\"google-site-verification\" content=\"zaVWNz8Jzaz9v1j2VX5EGaHxVkyQVs7muWagH-FKm9g\" />\\n\\n\\n\\n\\t<meta name=\"twitter:card\" content=\"summary\" />\\n\\t<meta name=\"twitter:site\" content=\"@AerisWeather\" />\\n\\t<meta name=\"facebook-domain-verification\" content=\"2xslsk2ga5vhyb34835hlozadsli9s\" />\\n\\n\\t<link href=\"//www.aerisweather.com/css/styles.css?v=2022081502\" rel=\"stylesheet\" type=\"text/css\">\\n\\t\\n\\t<script type=\"text/javascript\">\\n\\tvar AerisWx = { rootUrl: \\'//www.aerisweather.com\\' };\\n\\twindow.dataLayer = window.dataLayer || [];\\n\\n\\t</script>\\n\\t\\n\\n\\n\\n<!-- Google Tag Manager (Prod) -->\\n<script>(function(w,d,s,l,i){w[l]=w[l]||[];w[l].push({\\'gtm.start\\':\\nnew Date().getTime(),event:\\'gtm.js\\'});var f=d.getElementsByTagName(s)[0],\\nj=d.createElement(s),dl='"
      ]
     },
     "execution_count": 319,
     "metadata": {},
     "output_type": "execute_result"
    }
   ],
   "source": [
    "html=req.get(url).text\n",
    "\n",
    "html[:1000]"
   ]
  },
  {
   "cell_type": "code",
   "execution_count": 320,
   "id": "acc52109",
   "metadata": {},
   "outputs": [
    {
     "data": {
      "text/plain": [
       "bs4.BeautifulSoup"
      ]
     },
     "execution_count": 320,
     "metadata": {},
     "output_type": "execute_result"
    }
   ],
   "source": [
    "soup= BeautifulSoup(html, 'html.parser')\n",
    "\n",
    "type(soup)"
   ]
  },
  {
   "cell_type": "code",
   "execution_count": 321,
   "id": "3922843a",
   "metadata": {},
   "outputs": [
    {
     "data": {
      "text/html": [
       "<div>\n",
       "<style scoped>\n",
       "    .dataframe tbody tr th:only-of-type {\n",
       "        vertical-align: middle;\n",
       "    }\n",
       "\n",
       "    .dataframe tbody tr th {\n",
       "        vertical-align: top;\n",
       "    }\n",
       "\n",
       "    .dataframe thead th {\n",
       "        text-align: right;\n",
       "    }\n",
       "</style>\n",
       "<table border=\"1\" class=\"dataframe\">\n",
       "  <thead>\n",
       "    <tr style=\"text-align: right;\">\n",
       "      <th></th>\n",
       "      <th>Hour</th>\n",
       "      <th>Borrar</th>\n",
       "      <th>Climate</th>\n",
       "      <th>Temp</th>\n",
       "      <th>Dew Point</th>\n",
       "      <th>Humidity</th>\n",
       "      <th>Winds</th>\n",
       "      <th>Pressure</th>\n",
       "      <th>Visibility</th>\n",
       "      <th>Precip</th>\n",
       "    </tr>\n",
       "  </thead>\n",
       "  <tbody>\n",
       "    <tr>\n",
       "      <th>25</th>\n",
       "      <td>16:00</td>\n",
       "      <td>NaN</td>\n",
       "      <td>Cloudy with Light Snow</td>\n",
       "      <td>-10</td>\n",
       "      <td>-13</td>\n",
       "      <td>79</td>\n",
       "      <td>ENE 9</td>\n",
       "      <td>1012</td>\n",
       "      <td>10</td>\n",
       "      <td>NaN</td>\n",
       "    </tr>\n",
       "  </tbody>\n",
       "</table>\n",
       "</div>"
      ],
      "text/plain": [
       "     Hour Borrar                 Climate Temp Dew Point Humidity  Winds  \\\n",
       "25  16:00    NaN  Cloudy with Light Snow  -10       -13       79  ENE 9   \n",
       "\n",
       "   Pressure Visibility Precip  \n",
       "25     1012         10    NaN  "
      ]
     },
     "execution_count": 321,
     "metadata": {},
     "output_type": "execute_result"
    }
   ],
   "source": [
    "canada_3_1=pd.read_clipboard()\n",
    "\n",
    "canada_3_1 = canada_3_1.T.reset_index().T\n",
    "\n",
    "canada_3_1.columns = [\"Hour\",\"Borrar\",\"Climate\",\"Temp\",\"Dew Point\",\"Humidity\",\"Winds\",\"Pressure\",\"Visibility\", \"Precip\"]\n",
    "\n",
    "canada_3_1 = canada_3_1.reset_index(drop=True)\n",
    "\n",
    "canada_3_1_bien = canada_3_1.iloc [-1:]\n",
    "\n",
    "canada_3_1_bien"
   ]
  },
  {
   "cell_type": "code",
   "execution_count": 322,
   "id": "47459be7",
   "metadata": {},
   "outputs": [],
   "source": [
    "# Abril"
   ]
  },
  {
   "cell_type": "code",
   "execution_count": 323,
   "id": "1488b39a",
   "metadata": {},
   "outputs": [],
   "source": [
    "url ='https://www.aerisweather.com/weather/local/ca/on/ottawa/history/2022/04/01'"
   ]
  },
  {
   "cell_type": "code",
   "execution_count": 324,
   "id": "69939f4f",
   "metadata": {},
   "outputs": [
    {
     "data": {
      "text/plain": [
       "'\\n\\n<!DOCTYPE html>\\n<html>\\n<head>\\n \\n\\t\\n\\n\\t<meta charset=\"utf-8\">\\n\\t<meta http-equiv=\"X-UA-Compatible\" content=\"IE=edge,chrome=1\">\\n\\n\\t\\t\\t\\t\\t<meta name=\"viewport\" content=\"width=device-width, user-scalable=no\">\\n\\t<meta name=\"referrer\" content=\"no-referrer-when-downgrade\">\\n\\t<meta name=\"google-site-verification\" content=\"zaVWNz8Jzaz9v1j2VX5EGaHxVkyQVs7muWagH-FKm9g\" />\\n\\n\\n\\n\\t<meta name=\"twitter:card\" content=\"summary\" />\\n\\t<meta name=\"twitter:site\" content=\"@AerisWeather\" />\\n\\t<meta name=\"facebook-domain-verification\" content=\"2xslsk2ga5vhyb34835hlozadsli9s\" />\\n\\n\\t<link href=\"//www.aerisweather.com/css/styles.css?v=2022081502\" rel=\"stylesheet\" type=\"text/css\">\\n\\t\\n\\t<script type=\"text/javascript\">\\n\\tvar AerisWx = { rootUrl: \\'//www.aerisweather.com\\' };\\n\\twindow.dataLayer = window.dataLayer || [];\\n\\n\\t</script>\\n\\t\\n\\n\\n\\n<!-- Google Tag Manager (Prod) -->\\n<script>(function(w,d,s,l,i){w[l]=w[l]||[];w[l].push({\\'gtm.start\\':\\nnew Date().getTime(),event:\\'gtm.js\\'});var f=d.getElementsByTagName(s)[0],\\nj=d.createElement(s),dl='"
      ]
     },
     "execution_count": 324,
     "metadata": {},
     "output_type": "execute_result"
    }
   ],
   "source": [
    "html=req.get(url).text\n",
    "\n",
    "html[:1000]"
   ]
  },
  {
   "cell_type": "code",
   "execution_count": 325,
   "id": "e3cccd57",
   "metadata": {},
   "outputs": [
    {
     "data": {
      "text/plain": [
       "bs4.BeautifulSoup"
      ]
     },
     "execution_count": 325,
     "metadata": {},
     "output_type": "execute_result"
    }
   ],
   "source": [
    "soup= BeautifulSoup(html, 'html.parser')\n",
    "\n",
    "type(soup)"
   ]
  },
  {
   "cell_type": "code",
   "execution_count": 326,
   "id": "20e802f9",
   "metadata": {},
   "outputs": [
    {
     "data": {
      "text/html": [
       "<div>\n",
       "<style scoped>\n",
       "    .dataframe tbody tr th:only-of-type {\n",
       "        vertical-align: middle;\n",
       "    }\n",
       "\n",
       "    .dataframe tbody tr th {\n",
       "        vertical-align: top;\n",
       "    }\n",
       "\n",
       "    .dataframe thead th {\n",
       "        text-align: right;\n",
       "    }\n",
       "</style>\n",
       "<table border=\"1\" class=\"dataframe\">\n",
       "  <thead>\n",
       "    <tr style=\"text-align: right;\">\n",
       "      <th></th>\n",
       "      <th>Hour</th>\n",
       "      <th>Borrar</th>\n",
       "      <th>Climate</th>\n",
       "      <th>Temp</th>\n",
       "      <th>Dew Point</th>\n",
       "      <th>Humidity</th>\n",
       "      <th>Winds</th>\n",
       "      <th>Pressure</th>\n",
       "      <th>Visibility</th>\n",
       "      <th>Precip</th>\n",
       "    </tr>\n",
       "  </thead>\n",
       "  <tbody>\n",
       "    <tr>\n",
       "      <th>25</th>\n",
       "      <td>16:00</td>\n",
       "      <td>NaN</td>\n",
       "      <td>Windy with Snow Showers Likely</td>\n",
       "      <td>2</td>\n",
       "      <td>-2</td>\n",
       "      <td>75</td>\n",
       "      <td>WNW 31</td>\n",
       "      <td>1003</td>\n",
       "      <td>10</td>\n",
       "      <td>NaN</td>\n",
       "    </tr>\n",
       "  </tbody>\n",
       "</table>\n",
       "</div>"
      ],
      "text/plain": [
       "     Hour Borrar                         Climate Temp Dew Point Humidity  \\\n",
       "25  16:00    NaN  Windy with Snow Showers Likely    2        -2       75   \n",
       "\n",
       "     Winds Pressure Visibility Precip  \n",
       "25  WNW 31     1003         10    NaN  "
      ]
     },
     "execution_count": 326,
     "metadata": {},
     "output_type": "execute_result"
    }
   ],
   "source": [
    "canada_4_1=pd.read_clipboard()\n",
    "\n",
    "canada_4_1 = canada_4_1.T.reset_index().T\n",
    "\n",
    "canada_4_1.columns = [\"Hour\",\"Borrar\",\"Climate\",\"Temp\",\"Dew Point\",\"Humidity\",\"Winds\",\"Pressure\",\"Visibility\", \"Precip\"]\n",
    "\n",
    "canada_4_1 = canada_4_1.reset_index(drop=True)\n",
    "\n",
    "canada_4_1_bien = canada_4_1.iloc [-1:]\n",
    "\n",
    "canada_4_1_bien"
   ]
  },
  {
   "cell_type": "code",
   "execution_count": 327,
   "id": "f4fb8513",
   "metadata": {},
   "outputs": [],
   "source": [
    "# Mayo"
   ]
  },
  {
   "cell_type": "code",
   "execution_count": 328,
   "id": "fb757cfd",
   "metadata": {},
   "outputs": [],
   "source": [
    "url = 'https://www.aerisweather.com/weather/local/ca/on/ottawa/history/2022/05/01'"
   ]
  },
  {
   "cell_type": "code",
   "execution_count": 329,
   "id": "1d70e777",
   "metadata": {},
   "outputs": [
    {
     "data": {
      "text/plain": [
       "'\\n\\n<!DOCTYPE html>\\n<html>\\n<head>\\n \\n\\t\\n\\n\\t<meta charset=\"utf-8\">\\n\\t<meta http-equiv=\"X-UA-Compatible\" content=\"IE=edge,chrome=1\">\\n\\n\\t\\t\\t\\t\\t<meta name=\"viewport\" content=\"width=device-width, user-scalable=no\">\\n\\t<meta name=\"referrer\" content=\"no-referrer-when-downgrade\">\\n\\t<meta name=\"google-site-verification\" content=\"zaVWNz8Jzaz9v1j2VX5EGaHxVkyQVs7muWagH-FKm9g\" />\\n\\n\\n\\n\\t<meta name=\"twitter:card\" content=\"summary\" />\\n\\t<meta name=\"twitter:site\" content=\"@AerisWeather\" />\\n\\t<meta name=\"facebook-domain-verification\" content=\"2xslsk2ga5vhyb34835hlozadsli9s\" />\\n\\n\\t<link href=\"//www.aerisweather.com/css/styles.css?v=2022081502\" rel=\"stylesheet\" type=\"text/css\">\\n\\t\\n\\t<script type=\"text/javascript\">\\n\\tvar AerisWx = { rootUrl: \\'//www.aerisweather.com\\' };\\n\\twindow.dataLayer = window.dataLayer || [];\\n\\n\\t</script>\\n\\t\\n\\n\\n\\n<!-- Google Tag Manager (Prod) -->\\n<script>(function(w,d,s,l,i){w[l]=w[l]||[];w[l].push({\\'gtm.start\\':\\nnew Date().getTime(),event:\\'gtm.js\\'});var f=d.getElementsByTagName(s)[0],\\nj=d.createElement(s),dl='"
      ]
     },
     "execution_count": 329,
     "metadata": {},
     "output_type": "execute_result"
    }
   ],
   "source": [
    "html=req.get(url).text\n",
    "\n",
    "html[:1000]"
   ]
  },
  {
   "cell_type": "code",
   "execution_count": 330,
   "id": "abad9b1c",
   "metadata": {},
   "outputs": [
    {
     "data": {
      "text/plain": [
       "bs4.BeautifulSoup"
      ]
     },
     "execution_count": 330,
     "metadata": {},
     "output_type": "execute_result"
    }
   ],
   "source": [
    "soup= BeautifulSoup(html, 'html.parser')\n",
    "\n",
    "type(soup)"
   ]
  },
  {
   "cell_type": "code",
   "execution_count": 331,
   "id": "aa06e0f1",
   "metadata": {},
   "outputs": [
    {
     "data": {
      "text/html": [
       "<div>\n",
       "<style scoped>\n",
       "    .dataframe tbody tr th:only-of-type {\n",
       "        vertical-align: middle;\n",
       "    }\n",
       "\n",
       "    .dataframe tbody tr th {\n",
       "        vertical-align: top;\n",
       "    }\n",
       "\n",
       "    .dataframe thead th {\n",
       "        text-align: right;\n",
       "    }\n",
       "</style>\n",
       "<table border=\"1\" class=\"dataframe\">\n",
       "  <thead>\n",
       "    <tr style=\"text-align: right;\">\n",
       "      <th></th>\n",
       "      <th>Hour</th>\n",
       "      <th>Borrar</th>\n",
       "      <th>Climate</th>\n",
       "      <th>Temp</th>\n",
       "      <th>Dew Point</th>\n",
       "      <th>Humidity</th>\n",
       "      <th>Winds</th>\n",
       "      <th>Pressure</th>\n",
       "      <th>Visibility</th>\n",
       "      <th>Precip</th>\n",
       "    </tr>\n",
       "  </thead>\n",
       "  <tbody>\n",
       "    <tr>\n",
       "      <th>17</th>\n",
       "      <td>16:00</td>\n",
       "      <td>NaN</td>\n",
       "      <td>Mostly Cloudy</td>\n",
       "      <td>19</td>\n",
       "      <td>0</td>\n",
       "      <td>28</td>\n",
       "      <td>SE 11</td>\n",
       "      <td>1017</td>\n",
       "      <td>24</td>\n",
       "      <td>NaN</td>\n",
       "    </tr>\n",
       "  </tbody>\n",
       "</table>\n",
       "</div>"
      ],
      "text/plain": [
       "     Hour Borrar        Climate Temp Dew Point Humidity  Winds Pressure  \\\n",
       "17  16:00    NaN  Mostly Cloudy   19         0       28  SE 11     1017   \n",
       "\n",
       "   Visibility Precip  \n",
       "17         24    NaN  "
      ]
     },
     "execution_count": 331,
     "metadata": {},
     "output_type": "execute_result"
    }
   ],
   "source": [
    "canada_5_1=pd.read_clipboard()\n",
    "\n",
    "canada_5_1 = canada_5_1.T.reset_index().T\n",
    "\n",
    "canada_5_1.columns = [\"Hour\",\"Borrar\",\"Climate\",\"Temp\",\"Dew Point\",\"Humidity\",\"Winds\",\"Pressure\",\"Visibility\", \"Precip\"]\n",
    "\n",
    "canada_5_1 = canada_5_1.reset_index(drop=True)\n",
    "\n",
    "canada_5_1_bien = canada_5_1.iloc [-1:]\n",
    "\n",
    "canada_5_1_bien"
   ]
  },
  {
   "cell_type": "code",
   "execution_count": 332,
   "id": "b3df96ac",
   "metadata": {},
   "outputs": [],
   "source": [
    "# Junio"
   ]
  },
  {
   "cell_type": "code",
   "execution_count": 333,
   "id": "d72189f4",
   "metadata": {},
   "outputs": [],
   "source": [
    "url = 'https://www.aerisweather.com/weather/local/ca/on/ottawa/history/2022/06/01'"
   ]
  },
  {
   "cell_type": "code",
   "execution_count": 334,
   "id": "28f37724",
   "metadata": {},
   "outputs": [
    {
     "data": {
      "text/plain": [
       "'\\n\\n<!DOCTYPE html>\\n<html>\\n<head>\\n \\n\\t\\n\\n\\t<meta charset=\"utf-8\">\\n\\t<meta http-equiv=\"X-UA-Compatible\" content=\"IE=edge,chrome=1\">\\n\\n\\t\\t\\t\\t\\t<meta name=\"viewport\" content=\"width=device-width, user-scalable=no\">\\n\\t<meta name=\"referrer\" content=\"no-referrer-when-downgrade\">\\n\\t<meta name=\"google-site-verification\" content=\"zaVWNz8Jzaz9v1j2VX5EGaHxVkyQVs7muWagH-FKm9g\" />\\n\\n\\n\\n\\t<meta name=\"twitter:card\" content=\"summary\" />\\n\\t<meta name=\"twitter:site\" content=\"@AerisWeather\" />\\n\\t<meta name=\"facebook-domain-verification\" content=\"2xslsk2ga5vhyb34835hlozadsli9s\" />\\n\\n\\t<link href=\"//www.aerisweather.com/css/styles.css?v=2022081502\" rel=\"stylesheet\" type=\"text/css\">\\n\\t\\n\\t<script type=\"text/javascript\">\\n\\tvar AerisWx = { rootUrl: \\'//www.aerisweather.com\\' };\\n\\twindow.dataLayer = window.dataLayer || [];\\n\\n\\t</script>\\n\\t\\n\\n\\n\\n<!-- Google Tag Manager (Prod) -->\\n<script>(function(w,d,s,l,i){w[l]=w[l]||[];w[l].push({\\'gtm.start\\':\\nnew Date().getTime(),event:\\'gtm.js\\'});var f=d.getElementsByTagName(s)[0],\\nj=d.createElement(s),dl='"
      ]
     },
     "execution_count": 334,
     "metadata": {},
     "output_type": "execute_result"
    }
   ],
   "source": [
    "html=req.get(url).text\n",
    "\n",
    "html[:1000]"
   ]
  },
  {
   "cell_type": "code",
   "execution_count": 335,
   "id": "b1150739",
   "metadata": {},
   "outputs": [
    {
     "data": {
      "text/plain": [
       "bs4.BeautifulSoup"
      ]
     },
     "execution_count": 335,
     "metadata": {},
     "output_type": "execute_result"
    }
   ],
   "source": [
    "soup= BeautifulSoup(html, 'html.parser')\n",
    "\n",
    "type(soup)"
   ]
  },
  {
   "cell_type": "code",
   "execution_count": 336,
   "id": "55af3274",
   "metadata": {},
   "outputs": [
    {
     "data": {
      "text/html": [
       "<div>\n",
       "<style scoped>\n",
       "    .dataframe tbody tr th:only-of-type {\n",
       "        vertical-align: middle;\n",
       "    }\n",
       "\n",
       "    .dataframe tbody tr th {\n",
       "        vertical-align: top;\n",
       "    }\n",
       "\n",
       "    .dataframe thead th {\n",
       "        text-align: right;\n",
       "    }\n",
       "</style>\n",
       "<table border=\"1\" class=\"dataframe\">\n",
       "  <thead>\n",
       "    <tr style=\"text-align: right;\">\n",
       "      <th></th>\n",
       "      <th>Hour</th>\n",
       "      <th>Borrar</th>\n",
       "      <th>Climate</th>\n",
       "      <th>Temp</th>\n",
       "      <th>Dew Point</th>\n",
       "      <th>Humidity</th>\n",
       "      <th>Winds</th>\n",
       "      <th>Pressure</th>\n",
       "      <th>Visibility</th>\n",
       "      <th>Precip</th>\n",
       "    </tr>\n",
       "  </thead>\n",
       "  <tbody>\n",
       "    <tr>\n",
       "      <th>27</th>\n",
       "      <td>16:00</td>\n",
       "      <td>NaN</td>\n",
       "      <td>Cloudy with Light Rain</td>\n",
       "      <td>17</td>\n",
       "      <td>15</td>\n",
       "      <td>88</td>\n",
       "      <td>E 9</td>\n",
       "      <td>1010</td>\n",
       "      <td>24</td>\n",
       "      <td>NaN</td>\n",
       "    </tr>\n",
       "  </tbody>\n",
       "</table>\n",
       "</div>"
      ],
      "text/plain": [
       "     Hour Borrar                 Climate Temp Dew Point Humidity Winds  \\\n",
       "27  16:00    NaN  Cloudy with Light Rain   17        15       88   E 9   \n",
       "\n",
       "   Pressure Visibility Precip  \n",
       "27     1010         24    NaN  "
      ]
     },
     "execution_count": 336,
     "metadata": {},
     "output_type": "execute_result"
    }
   ],
   "source": [
    "canada_6_1=pd.read_clipboard()\n",
    "\n",
    "canada_6_1 = canada_6_1.T.reset_index().T\n",
    "\n",
    "canada_6_1.columns = [\"Hour\",\"Borrar\",\"Climate\",\"Temp\",\"Dew Point\",\"Humidity\",\"Winds\",\"Pressure\",\"Visibility\", \"Precip\"]\n",
    "\n",
    "canada_6_1 = canada_6_1.reset_index(drop=True)\n",
    "\n",
    "canada_6_1_bien = canada_6_1.iloc [-1:]\n",
    "\n",
    "canada_6_1_bien"
   ]
  },
  {
   "cell_type": "code",
   "execution_count": 337,
   "id": "08fc6c54",
   "metadata": {},
   "outputs": [],
   "source": [
    "# Julio"
   ]
  },
  {
   "cell_type": "code",
   "execution_count": 338,
   "id": "e7b525d8",
   "metadata": {},
   "outputs": [],
   "source": [
    "url = 'https://www.aerisweather.com/weather/local/ca/on/ottawa/history/2022/07/01'"
   ]
  },
  {
   "cell_type": "code",
   "execution_count": 339,
   "id": "53661700",
   "metadata": {},
   "outputs": [
    {
     "data": {
      "text/plain": [
       "'\\n\\n<!DOCTYPE html>\\n<html>\\n<head>\\n \\n\\t\\n\\n\\t<meta charset=\"utf-8\">\\n\\t<meta http-equiv=\"X-UA-Compatible\" content=\"IE=edge,chrome=1\">\\n\\n\\t\\t\\t\\t\\t<meta name=\"viewport\" content=\"width=device-width, user-scalable=no\">\\n\\t<meta name=\"referrer\" content=\"no-referrer-when-downgrade\">\\n\\t<meta name=\"google-site-verification\" content=\"zaVWNz8Jzaz9v1j2VX5EGaHxVkyQVs7muWagH-FKm9g\" />\\n\\n\\n\\n\\t<meta name=\"twitter:card\" content=\"summary\" />\\n\\t<meta name=\"twitter:site\" content=\"@AerisWeather\" />\\n\\t<meta name=\"facebook-domain-verification\" content=\"2xslsk2ga5vhyb34835hlozadsli9s\" />\\n\\n\\t<link href=\"//www.aerisweather.com/css/styles.css?v=2022081502\" rel=\"stylesheet\" type=\"text/css\">\\n\\t\\n\\t<script type=\"text/javascript\">\\n\\tvar AerisWx = { rootUrl: \\'//www.aerisweather.com\\' };\\n\\twindow.dataLayer = window.dataLayer || [];\\n\\n\\t</script>\\n\\t\\n\\n\\n\\n<!-- Google Tag Manager (Prod) -->\\n<script>(function(w,d,s,l,i){w[l]=w[l]||[];w[l].push({\\'gtm.start\\':\\nnew Date().getTime(),event:\\'gtm.js\\'});var f=d.getElementsByTagName(s)[0],\\nj=d.createElement(s),dl='"
      ]
     },
     "execution_count": 339,
     "metadata": {},
     "output_type": "execute_result"
    }
   ],
   "source": [
    "html=req.get(url).text\n",
    "\n",
    "html[:1000]"
   ]
  },
  {
   "cell_type": "code",
   "execution_count": 340,
   "id": "10a05bec",
   "metadata": {},
   "outputs": [
    {
     "data": {
      "text/plain": [
       "bs4.BeautifulSoup"
      ]
     },
     "execution_count": 340,
     "metadata": {},
     "output_type": "execute_result"
    }
   ],
   "source": [
    "soup= BeautifulSoup(html, 'html.parser')\n",
    "\n",
    "type(soup)"
   ]
  },
  {
   "cell_type": "code",
   "execution_count": 341,
   "id": "336a3e8a",
   "metadata": {},
   "outputs": [
    {
     "data": {
      "text/html": [
       "<div>\n",
       "<style scoped>\n",
       "    .dataframe tbody tr th:only-of-type {\n",
       "        vertical-align: middle;\n",
       "    }\n",
       "\n",
       "    .dataframe tbody tr th {\n",
       "        vertical-align: top;\n",
       "    }\n",
       "\n",
       "    .dataframe thead th {\n",
       "        text-align: right;\n",
       "    }\n",
       "</style>\n",
       "<table border=\"1\" class=\"dataframe\">\n",
       "  <thead>\n",
       "    <tr style=\"text-align: right;\">\n",
       "      <th></th>\n",
       "      <th>Hour</th>\n",
       "      <th>Borrar</th>\n",
       "      <th>Climate</th>\n",
       "      <th>Temp</th>\n",
       "      <th>Dew Point</th>\n",
       "      <th>Humidity</th>\n",
       "      <th>Winds</th>\n",
       "      <th>Pressure</th>\n",
       "      <th>Visibility</th>\n",
       "      <th>Precip</th>\n",
       "    </tr>\n",
       "  </thead>\n",
       "  <tbody>\n",
       "    <tr>\n",
       "      <th>16</th>\n",
       "      <td>16:00</td>\n",
       "      <td>NaN</td>\n",
       "      <td>Mostly Cloudy</td>\n",
       "      <td>27</td>\n",
       "      <td>19</td>\n",
       "      <td>62</td>\n",
       "      <td>SSW 20</td>\n",
       "      <td>1010</td>\n",
       "      <td>24</td>\n",
       "      <td>NaN</td>\n",
       "    </tr>\n",
       "  </tbody>\n",
       "</table>\n",
       "</div>"
      ],
      "text/plain": [
       "     Hour Borrar        Climate Temp Dew Point Humidity   Winds Pressure  \\\n",
       "16  16:00    NaN  Mostly Cloudy   27        19       62  SSW 20     1010   \n",
       "\n",
       "   Visibility Precip  \n",
       "16         24    NaN  "
      ]
     },
     "execution_count": 341,
     "metadata": {},
     "output_type": "execute_result"
    }
   ],
   "source": [
    "canada_7_1=pd.read_clipboard()\n",
    "\n",
    "canada_7_1 = canada_7_1.T.reset_index().T\n",
    "\n",
    "canada_7_1.columns = [\"Hour\",\"Borrar\",\"Climate\",\"Temp\",\"Dew Point\",\"Humidity\",\"Winds\",\"Pressure\",\"Visibility\", \"Precip\"]\n",
    "\n",
    "canada_7_1 = canada_7_1.reset_index(drop=True)\n",
    "\n",
    "canada_7_1_bien = canada_7_1.iloc [-1:]\n",
    "\n",
    "canada_7_1_bien"
   ]
  },
  {
   "cell_type": "code",
   "execution_count": 342,
   "id": "6d1d1a88",
   "metadata": {},
   "outputs": [],
   "source": [
    "# Agosto"
   ]
  },
  {
   "cell_type": "code",
   "execution_count": 343,
   "id": "40c4ae2e",
   "metadata": {},
   "outputs": [],
   "source": [
    "url = 'https://www.aerisweather.com/weather/local/ca/on/ottawa/history/2022/08/01'"
   ]
  },
  {
   "cell_type": "code",
   "execution_count": 344,
   "id": "9257bc60",
   "metadata": {},
   "outputs": [
    {
     "data": {
      "text/plain": [
       "'\\n\\n<!DOCTYPE html>\\n<html>\\n<head>\\n \\n\\t\\n\\n\\t<meta charset=\"utf-8\">\\n\\t<meta http-equiv=\"X-UA-Compatible\" content=\"IE=edge,chrome=1\">\\n\\n\\t\\t\\t\\t\\t<meta name=\"viewport\" content=\"width=device-width, user-scalable=no\">\\n\\t<meta name=\"referrer\" content=\"no-referrer-when-downgrade\">\\n\\t<meta name=\"google-site-verification\" content=\"zaVWNz8Jzaz9v1j2VX5EGaHxVkyQVs7muWagH-FKm9g\" />\\n\\n\\n\\n\\t<meta name=\"twitter:card\" content=\"summary\" />\\n\\t<meta name=\"twitter:site\" content=\"@AerisWeather\" />\\n\\t<meta name=\"facebook-domain-verification\" content=\"2xslsk2ga5vhyb34835hlozadsli9s\" />\\n\\n\\t<link href=\"//www.aerisweather.com/css/styles.css?v=2022081502\" rel=\"stylesheet\" type=\"text/css\">\\n\\t\\n\\t<script type=\"text/javascript\">\\n\\tvar AerisWx = { rootUrl: \\'//www.aerisweather.com\\' };\\n\\twindow.dataLayer = window.dataLayer || [];\\n\\n\\t</script>\\n\\t\\n\\n\\n\\n<!-- Google Tag Manager (Prod) -->\\n<script>(function(w,d,s,l,i){w[l]=w[l]||[];w[l].push({\\'gtm.start\\':\\nnew Date().getTime(),event:\\'gtm.js\\'});var f=d.getElementsByTagName(s)[0],\\nj=d.createElement(s),dl='"
      ]
     },
     "execution_count": 344,
     "metadata": {},
     "output_type": "execute_result"
    }
   ],
   "source": [
    "html=req.get(url).text\n",
    "\n",
    "html[:1000]"
   ]
  },
  {
   "cell_type": "code",
   "execution_count": 345,
   "id": "27ff2ae4",
   "metadata": {},
   "outputs": [
    {
     "data": {
      "text/plain": [
       "bs4.BeautifulSoup"
      ]
     },
     "execution_count": 345,
     "metadata": {},
     "output_type": "execute_result"
    }
   ],
   "source": [
    "soup= BeautifulSoup(html, 'html.parser')\n",
    "\n",
    "type(soup)"
   ]
  },
  {
   "cell_type": "code",
   "execution_count": 346,
   "id": "69e0f69b",
   "metadata": {},
   "outputs": [
    {
     "data": {
      "text/html": [
       "<div>\n",
       "<style scoped>\n",
       "    .dataframe tbody tr th:only-of-type {\n",
       "        vertical-align: middle;\n",
       "    }\n",
       "\n",
       "    .dataframe tbody tr th {\n",
       "        vertical-align: top;\n",
       "    }\n",
       "\n",
       "    .dataframe thead th {\n",
       "        text-align: right;\n",
       "    }\n",
       "</style>\n",
       "<table border=\"1\" class=\"dataframe\">\n",
       "  <thead>\n",
       "    <tr style=\"text-align: right;\">\n",
       "      <th></th>\n",
       "      <th>Hour</th>\n",
       "      <th>Borrar</th>\n",
       "      <th>Climate</th>\n",
       "      <th>Temp</th>\n",
       "      <th>Dew Point</th>\n",
       "      <th>Humidity</th>\n",
       "      <th>Winds</th>\n",
       "      <th>Pressure</th>\n",
       "      <th>Visibility</th>\n",
       "      <th>Precip</th>\n",
       "    </tr>\n",
       "  </thead>\n",
       "  <tbody>\n",
       "    <tr>\n",
       "      <th>16</th>\n",
       "      <td>16:00</td>\n",
       "      <td>NaN</td>\n",
       "      <td>Mostly Cloudy</td>\n",
       "      <td>27</td>\n",
       "      <td>17</td>\n",
       "      <td>54</td>\n",
       "      <td>S 24</td>\n",
       "      <td>1009</td>\n",
       "      <td>24</td>\n",
       "      <td>NaN</td>\n",
       "    </tr>\n",
       "  </tbody>\n",
       "</table>\n",
       "</div>"
      ],
      "text/plain": [
       "     Hour Borrar        Climate Temp Dew Point Humidity Winds Pressure  \\\n",
       "16  16:00    NaN  Mostly Cloudy   27        17       54  S 24     1009   \n",
       "\n",
       "   Visibility Precip  \n",
       "16         24    NaN  "
      ]
     },
     "execution_count": 346,
     "metadata": {},
     "output_type": "execute_result"
    }
   ],
   "source": [
    "canada_8_1=pd.read_clipboard()\n",
    "\n",
    "canada_8_1 = canada_8_1.T.reset_index().T\n",
    "\n",
    "canada_8_1.columns = [\"Hour\",\"Borrar\",\"Climate\",\"Temp\",\"Dew Point\",\"Humidity\",\"Winds\",\"Pressure\",\"Visibility\", \"Precip\"]\n",
    "\n",
    "canada_8_1 = canada_8_1.reset_index(drop=True)\n",
    "\n",
    "canada_8_1_bien = canada_8_1.iloc [-1:]\n",
    "\n",
    "canada_8_1_bien"
   ]
  },
  {
   "cell_type": "code",
   "execution_count": 347,
   "id": "c2392551",
   "metadata": {},
   "outputs": [],
   "source": [
    "# Septiembre"
   ]
  },
  {
   "cell_type": "code",
   "execution_count": 348,
   "id": "58fdc8b0",
   "metadata": {},
   "outputs": [],
   "source": [
    "url = 'https://www.aerisweather.com/weather/local/ca/on/ottawa/history/2022/09/01'"
   ]
  },
  {
   "cell_type": "code",
   "execution_count": 349,
   "id": "f9b05ebd",
   "metadata": {},
   "outputs": [
    {
     "data": {
      "text/plain": [
       "'\\n\\n<!DOCTYPE html>\\n<html>\\n<head>\\n \\n\\t\\n\\n\\t<meta charset=\"utf-8\">\\n\\t<meta http-equiv=\"X-UA-Compatible\" content=\"IE=edge,chrome=1\">\\n\\n\\t\\t\\t\\t\\t<meta name=\"viewport\" content=\"width=device-width, user-scalable=no\">\\n\\t<meta name=\"referrer\" content=\"no-referrer-when-downgrade\">\\n\\t<meta name=\"google-site-verification\" content=\"zaVWNz8Jzaz9v1j2VX5EGaHxVkyQVs7muWagH-FKm9g\" />\\n\\n\\n\\n\\t<meta name=\"twitter:card\" content=\"summary\" />\\n\\t<meta name=\"twitter:site\" content=\"@AerisWeather\" />\\n\\t<meta name=\"facebook-domain-verification\" content=\"2xslsk2ga5vhyb34835hlozadsli9s\" />\\n\\n\\t<link href=\"//www.aerisweather.com/css/styles.css?v=2022081502\" rel=\"stylesheet\" type=\"text/css\">\\n\\t\\n\\t<script type=\"text/javascript\">\\n\\tvar AerisWx = { rootUrl: \\'//www.aerisweather.com\\' };\\n\\twindow.dataLayer = window.dataLayer || [];\\n\\n\\t</script>\\n\\t\\n\\n\\n\\n<!-- Google Tag Manager (Prod) -->\\n<script>(function(w,d,s,l,i){w[l]=w[l]||[];w[l].push({\\'gtm.start\\':\\nnew Date().getTime(),event:\\'gtm.js\\'});var f=d.getElementsByTagName(s)[0],\\nj=d.createElement(s),dl='"
      ]
     },
     "execution_count": 349,
     "metadata": {},
     "output_type": "execute_result"
    }
   ],
   "source": [
    "html=req.get(url).text\n",
    "\n",
    "html[:1000]"
   ]
  },
  {
   "cell_type": "code",
   "execution_count": 350,
   "id": "281a3c5a",
   "metadata": {},
   "outputs": [
    {
     "data": {
      "text/plain": [
       "bs4.BeautifulSoup"
      ]
     },
     "execution_count": 350,
     "metadata": {},
     "output_type": "execute_result"
    }
   ],
   "source": [
    "soup= BeautifulSoup(html, 'html.parser')\n",
    "\n",
    "type(soup)"
   ]
  },
  {
   "cell_type": "code",
   "execution_count": 351,
   "id": "e7026301",
   "metadata": {},
   "outputs": [
    {
     "data": {
      "text/html": [
       "<div>\n",
       "<style scoped>\n",
       "    .dataframe tbody tr th:only-of-type {\n",
       "        vertical-align: middle;\n",
       "    }\n",
       "\n",
       "    .dataframe tbody tr th {\n",
       "        vertical-align: top;\n",
       "    }\n",
       "\n",
       "    .dataframe thead th {\n",
       "        text-align: right;\n",
       "    }\n",
       "</style>\n",
       "<table border=\"1\" class=\"dataframe\">\n",
       "  <thead>\n",
       "    <tr style=\"text-align: right;\">\n",
       "      <th></th>\n",
       "      <th>Hour</th>\n",
       "      <th>Borrar</th>\n",
       "      <th>Climate</th>\n",
       "      <th>Temp</th>\n",
       "      <th>Dew Point</th>\n",
       "      <th>Humidity</th>\n",
       "      <th>Winds</th>\n",
       "      <th>Pressure</th>\n",
       "      <th>Visibility</th>\n",
       "      <th>Precip</th>\n",
       "    </tr>\n",
       "  </thead>\n",
       "  <tbody>\n",
       "    <tr>\n",
       "      <th>17</th>\n",
       "      <td>16:00</td>\n",
       "      <td>NaN</td>\n",
       "      <td>Mostly Cloudy</td>\n",
       "      <td>16</td>\n",
       "      <td>8</td>\n",
       "      <td>59</td>\n",
       "      <td>W 17</td>\n",
       "      <td>1017</td>\n",
       "      <td>24</td>\n",
       "      <td>0.0</td>\n",
       "    </tr>\n",
       "  </tbody>\n",
       "</table>\n",
       "</div>"
      ],
      "text/plain": [
       "     Hour Borrar        Climate Temp Dew Point Humidity Winds Pressure  \\\n",
       "17  16:00    NaN  Mostly Cloudy   16         8       59  W 17     1017   \n",
       "\n",
       "   Visibility Precip  \n",
       "17         24    0.0  "
      ]
     },
     "execution_count": 351,
     "metadata": {},
     "output_type": "execute_result"
    }
   ],
   "source": [
    "canada_9_1=pd.read_clipboard()\n",
    "\n",
    "canada_9_1 = canada_9_1.T.reset_index().T\n",
    "\n",
    "canada_9_1.columns = [\"Hour\",\"Borrar\",\"Climate\",\"Temp\",\"Dew Point\",\"Humidity\",\"Winds\",\"Pressure\",\"Visibility\", \"Precip\"]\n",
    "\n",
    "canada_9_1 = canada_9_1.reset_index(drop=True)\n",
    "\n",
    "canada_9_1_bien = canada_9_1.iloc [-1:]\n",
    "\n",
    "canada_9_1_bien"
   ]
  },
  {
   "cell_type": "code",
   "execution_count": 352,
   "id": "fe258000",
   "metadata": {},
   "outputs": [
    {
     "data": {
      "text/html": [
       "<div>\n",
       "<style scoped>\n",
       "    .dataframe tbody tr th:only-of-type {\n",
       "        vertical-align: middle;\n",
       "    }\n",
       "\n",
       "    .dataframe tbody tr th {\n",
       "        vertical-align: top;\n",
       "    }\n",
       "\n",
       "    .dataframe thead th {\n",
       "        text-align: right;\n",
       "    }\n",
       "</style>\n",
       "<table border=\"1\" class=\"dataframe\">\n",
       "  <thead>\n",
       "    <tr style=\"text-align: right;\">\n",
       "      <th></th>\n",
       "      <th>Hour</th>\n",
       "      <th>Borrar</th>\n",
       "      <th>Climate</th>\n",
       "      <th>Temp</th>\n",
       "      <th>Dew Point</th>\n",
       "      <th>Humidity</th>\n",
       "      <th>Winds</th>\n",
       "      <th>Pressure</th>\n",
       "      <th>Visibility</th>\n",
       "      <th>Precip</th>\n",
       "    </tr>\n",
       "  </thead>\n",
       "  <tbody>\n",
       "    <tr>\n",
       "      <th>23</th>\n",
       "      <td>16:00</td>\n",
       "      <td>NaN</td>\n",
       "      <td>Cloudy</td>\n",
       "      <td>1</td>\n",
       "      <td>-1</td>\n",
       "      <td>87</td>\n",
       "      <td>NNW 19</td>\n",
       "      <td>1008</td>\n",
       "      <td>19</td>\n",
       "      <td>NaN</td>\n",
       "    </tr>\n",
       "    <tr>\n",
       "      <th>16</th>\n",
       "      <td>16:00</td>\n",
       "      <td>NaN</td>\n",
       "      <td>Mostly Cloudy</td>\n",
       "      <td>-7</td>\n",
       "      <td>-13</td>\n",
       "      <td>63</td>\n",
       "      <td>E 22</td>\n",
       "      <td>1026</td>\n",
       "      <td>24</td>\n",
       "      <td>NaN</td>\n",
       "    </tr>\n",
       "    <tr>\n",
       "      <th>25</th>\n",
       "      <td>16:00</td>\n",
       "      <td>NaN</td>\n",
       "      <td>Cloudy with Light Snow</td>\n",
       "      <td>-10</td>\n",
       "      <td>-13</td>\n",
       "      <td>79</td>\n",
       "      <td>ENE 9</td>\n",
       "      <td>1012</td>\n",
       "      <td>10</td>\n",
       "      <td>NaN</td>\n",
       "    </tr>\n",
       "    <tr>\n",
       "      <th>25</th>\n",
       "      <td>16:00</td>\n",
       "      <td>NaN</td>\n",
       "      <td>Windy with Snow Showers Likely</td>\n",
       "      <td>2</td>\n",
       "      <td>-2</td>\n",
       "      <td>75</td>\n",
       "      <td>WNW 31</td>\n",
       "      <td>1003</td>\n",
       "      <td>10</td>\n",
       "      <td>NaN</td>\n",
       "    </tr>\n",
       "    <tr>\n",
       "      <th>17</th>\n",
       "      <td>16:00</td>\n",
       "      <td>NaN</td>\n",
       "      <td>Mostly Cloudy</td>\n",
       "      <td>19</td>\n",
       "      <td>0</td>\n",
       "      <td>28</td>\n",
       "      <td>SE 11</td>\n",
       "      <td>1017</td>\n",
       "      <td>24</td>\n",
       "      <td>NaN</td>\n",
       "    </tr>\n",
       "    <tr>\n",
       "      <th>27</th>\n",
       "      <td>16:00</td>\n",
       "      <td>NaN</td>\n",
       "      <td>Cloudy with Light Rain</td>\n",
       "      <td>17</td>\n",
       "      <td>15</td>\n",
       "      <td>88</td>\n",
       "      <td>E 9</td>\n",
       "      <td>1010</td>\n",
       "      <td>24</td>\n",
       "      <td>NaN</td>\n",
       "    </tr>\n",
       "    <tr>\n",
       "      <th>16</th>\n",
       "      <td>16:00</td>\n",
       "      <td>NaN</td>\n",
       "      <td>Mostly Cloudy</td>\n",
       "      <td>27</td>\n",
       "      <td>19</td>\n",
       "      <td>62</td>\n",
       "      <td>SSW 20</td>\n",
       "      <td>1010</td>\n",
       "      <td>24</td>\n",
       "      <td>NaN</td>\n",
       "    </tr>\n",
       "    <tr>\n",
       "      <th>16</th>\n",
       "      <td>16:00</td>\n",
       "      <td>NaN</td>\n",
       "      <td>Mostly Cloudy</td>\n",
       "      <td>27</td>\n",
       "      <td>17</td>\n",
       "      <td>54</td>\n",
       "      <td>S 24</td>\n",
       "      <td>1009</td>\n",
       "      <td>24</td>\n",
       "      <td>NaN</td>\n",
       "    </tr>\n",
       "    <tr>\n",
       "      <th>17</th>\n",
       "      <td>16:00</td>\n",
       "      <td>NaN</td>\n",
       "      <td>Mostly Cloudy</td>\n",
       "      <td>16</td>\n",
       "      <td>8</td>\n",
       "      <td>59</td>\n",
       "      <td>W 17</td>\n",
       "      <td>1017</td>\n",
       "      <td>24</td>\n",
       "      <td>0.0</td>\n",
       "    </tr>\n",
       "  </tbody>\n",
       "</table>\n",
       "</div>"
      ],
      "text/plain": [
       "     Hour Borrar                         Climate Temp Dew Point Humidity  \\\n",
       "23  16:00    NaN                          Cloudy    1        -1       87   \n",
       "16  16:00    NaN                   Mostly Cloudy   -7       -13       63   \n",
       "25  16:00    NaN          Cloudy with Light Snow  -10       -13       79   \n",
       "25  16:00    NaN  Windy with Snow Showers Likely    2        -2       75   \n",
       "17  16:00    NaN                   Mostly Cloudy   19         0       28   \n",
       "27  16:00    NaN          Cloudy with Light Rain   17        15       88   \n",
       "16  16:00    NaN                   Mostly Cloudy   27        19       62   \n",
       "16  16:00    NaN                   Mostly Cloudy   27        17       54   \n",
       "17  16:00    NaN                   Mostly Cloudy   16         8       59   \n",
       "\n",
       "     Winds Pressure Visibility Precip  \n",
       "23  NNW 19     1008         19    NaN  \n",
       "16    E 22     1026         24    NaN  \n",
       "25   ENE 9     1012         10    NaN  \n",
       "25  WNW 31     1003         10    NaN  \n",
       "17   SE 11     1017         24    NaN  \n",
       "27     E 9     1010         24    NaN  \n",
       "16  SSW 20     1010         24    NaN  \n",
       "16    S 24     1009         24    NaN  \n",
       "17    W 17     1017         24    0.0  "
      ]
     },
     "execution_count": 352,
     "metadata": {},
     "output_type": "execute_result"
    }
   ],
   "source": [
    "canada_clima = pd.concat([canada_1_1_bien, canada_2_1_bien, canada_3_1_bien, canada_4_1_bien, canada_5_1_bien, canada_6_1_bien, canada_7_1_bien, canada_8_1_bien, canada_9_1_bien], axis=0)\n",
    "\n",
    "canada_clima"
   ]
  },
  {
   "cell_type": "code",
   "execution_count": null,
   "id": "4f7042ae",
   "metadata": {},
   "outputs": [],
   "source": []
  },
  {
   "cell_type": "code",
   "execution_count": 353,
   "id": "a9ff3e10",
   "metadata": {},
   "outputs": [
    {
     "data": {
      "text/html": [
       "<div>\n",
       "<style scoped>\n",
       "    .dataframe tbody tr th:only-of-type {\n",
       "        vertical-align: middle;\n",
       "    }\n",
       "\n",
       "    .dataframe tbody tr th {\n",
       "        vertical-align: top;\n",
       "    }\n",
       "\n",
       "    .dataframe thead th {\n",
       "        text-align: right;\n",
       "    }\n",
       "</style>\n",
       "<table border=\"1\" class=\"dataframe\">\n",
       "  <thead>\n",
       "    <tr style=\"text-align: right;\">\n",
       "      <th></th>\n",
       "      <th>Hour</th>\n",
       "      <th>Borrar</th>\n",
       "      <th>Climate</th>\n",
       "      <th>Temp</th>\n",
       "      <th>Dew Point</th>\n",
       "      <th>Humidity</th>\n",
       "      <th>Winds</th>\n",
       "      <th>Pressure</th>\n",
       "      <th>Visibility</th>\n",
       "      <th>Precip</th>\n",
       "      <th>date_weather</th>\n",
       "    </tr>\n",
       "  </thead>\n",
       "  <tbody>\n",
       "    <tr>\n",
       "      <th>23</th>\n",
       "      <td>16:00</td>\n",
       "      <td>NaN</td>\n",
       "      <td>Cloudy</td>\n",
       "      <td>1</td>\n",
       "      <td>-1</td>\n",
       "      <td>87</td>\n",
       "      <td>NNW 19</td>\n",
       "      <td>1008</td>\n",
       "      <td>19</td>\n",
       "      <td>NaN</td>\n",
       "      <td>2022-1-1</td>\n",
       "    </tr>\n",
       "    <tr>\n",
       "      <th>16</th>\n",
       "      <td>16:00</td>\n",
       "      <td>NaN</td>\n",
       "      <td>Mostly Cloudy</td>\n",
       "      <td>-7</td>\n",
       "      <td>-13</td>\n",
       "      <td>63</td>\n",
       "      <td>E 22</td>\n",
       "      <td>1026</td>\n",
       "      <td>24</td>\n",
       "      <td>NaN</td>\n",
       "      <td>2022-2-1</td>\n",
       "    </tr>\n",
       "    <tr>\n",
       "      <th>25</th>\n",
       "      <td>16:00</td>\n",
       "      <td>NaN</td>\n",
       "      <td>Cloudy with Light Snow</td>\n",
       "      <td>-10</td>\n",
       "      <td>-13</td>\n",
       "      <td>79</td>\n",
       "      <td>ENE 9</td>\n",
       "      <td>1012</td>\n",
       "      <td>10</td>\n",
       "      <td>NaN</td>\n",
       "      <td>2022-3-1</td>\n",
       "    </tr>\n",
       "    <tr>\n",
       "      <th>25</th>\n",
       "      <td>16:00</td>\n",
       "      <td>NaN</td>\n",
       "      <td>Windy with Snow Showers Likely</td>\n",
       "      <td>2</td>\n",
       "      <td>-2</td>\n",
       "      <td>75</td>\n",
       "      <td>WNW 31</td>\n",
       "      <td>1003</td>\n",
       "      <td>10</td>\n",
       "      <td>NaN</td>\n",
       "      <td>2022-4-1</td>\n",
       "    </tr>\n",
       "    <tr>\n",
       "      <th>17</th>\n",
       "      <td>16:00</td>\n",
       "      <td>NaN</td>\n",
       "      <td>Mostly Cloudy</td>\n",
       "      <td>19</td>\n",
       "      <td>0</td>\n",
       "      <td>28</td>\n",
       "      <td>SE 11</td>\n",
       "      <td>1017</td>\n",
       "      <td>24</td>\n",
       "      <td>NaN</td>\n",
       "      <td>2022-5-1</td>\n",
       "    </tr>\n",
       "    <tr>\n",
       "      <th>27</th>\n",
       "      <td>16:00</td>\n",
       "      <td>NaN</td>\n",
       "      <td>Cloudy with Light Rain</td>\n",
       "      <td>17</td>\n",
       "      <td>15</td>\n",
       "      <td>88</td>\n",
       "      <td>E 9</td>\n",
       "      <td>1010</td>\n",
       "      <td>24</td>\n",
       "      <td>NaN</td>\n",
       "      <td>2022-6-1</td>\n",
       "    </tr>\n",
       "    <tr>\n",
       "      <th>16</th>\n",
       "      <td>16:00</td>\n",
       "      <td>NaN</td>\n",
       "      <td>Mostly Cloudy</td>\n",
       "      <td>27</td>\n",
       "      <td>19</td>\n",
       "      <td>62</td>\n",
       "      <td>SSW 20</td>\n",
       "      <td>1010</td>\n",
       "      <td>24</td>\n",
       "      <td>NaN</td>\n",
       "      <td>2022-7-1</td>\n",
       "    </tr>\n",
       "    <tr>\n",
       "      <th>16</th>\n",
       "      <td>16:00</td>\n",
       "      <td>NaN</td>\n",
       "      <td>Mostly Cloudy</td>\n",
       "      <td>27</td>\n",
       "      <td>17</td>\n",
       "      <td>54</td>\n",
       "      <td>S 24</td>\n",
       "      <td>1009</td>\n",
       "      <td>24</td>\n",
       "      <td>NaN</td>\n",
       "      <td>2022-8-1</td>\n",
       "    </tr>\n",
       "    <tr>\n",
       "      <th>17</th>\n",
       "      <td>16:00</td>\n",
       "      <td>NaN</td>\n",
       "      <td>Mostly Cloudy</td>\n",
       "      <td>16</td>\n",
       "      <td>8</td>\n",
       "      <td>59</td>\n",
       "      <td>W 17</td>\n",
       "      <td>1017</td>\n",
       "      <td>24</td>\n",
       "      <td>0.0</td>\n",
       "      <td>2022-9-1</td>\n",
       "    </tr>\n",
       "  </tbody>\n",
       "</table>\n",
       "</div>"
      ],
      "text/plain": [
       "     Hour Borrar                         Climate Temp Dew Point Humidity  \\\n",
       "23  16:00    NaN                          Cloudy    1        -1       87   \n",
       "16  16:00    NaN                   Mostly Cloudy   -7       -13       63   \n",
       "25  16:00    NaN          Cloudy with Light Snow  -10       -13       79   \n",
       "25  16:00    NaN  Windy with Snow Showers Likely    2        -2       75   \n",
       "17  16:00    NaN                   Mostly Cloudy   19         0       28   \n",
       "27  16:00    NaN          Cloudy with Light Rain   17        15       88   \n",
       "16  16:00    NaN                   Mostly Cloudy   27        19       62   \n",
       "16  16:00    NaN                   Mostly Cloudy   27        17       54   \n",
       "17  16:00    NaN                   Mostly Cloudy   16         8       59   \n",
       "\n",
       "     Winds Pressure Visibility Precip date_weather  \n",
       "23  NNW 19     1008         19    NaN     2022-1-1  \n",
       "16    E 22     1026         24    NaN     2022-2-1  \n",
       "25   ENE 9     1012         10    NaN     2022-3-1  \n",
       "25  WNW 31     1003         10    NaN     2022-4-1  \n",
       "17   SE 11     1017         24    NaN     2022-5-1  \n",
       "27     E 9     1010         24    NaN     2022-6-1  \n",
       "16  SSW 20     1010         24    NaN     2022-7-1  \n",
       "16    S 24     1009         24    NaN     2022-8-1  \n",
       "17    W 17     1017         24    0.0     2022-9-1  "
      ]
     },
     "execution_count": 353,
     "metadata": {},
     "output_type": "execute_result"
    }
   ],
   "source": [
    "canada_clima['date_weather'] = ('2022-1-1', '2022-2-1', '2022-3-1', '2022-4-1', '2022-5-1', '2022-6-1', '2022-7-1', '2022-8-1', '2022-9-1')\n",
    "\n",
    "canada_clima"
   ]
  },
  {
   "cell_type": "code",
   "execution_count": 354,
   "id": "9d97ac8a",
   "metadata": {},
   "outputs": [
    {
     "data": {
      "text/html": [
       "<div>\n",
       "<style scoped>\n",
       "    .dataframe tbody tr th:only-of-type {\n",
       "        vertical-align: middle;\n",
       "    }\n",
       "\n",
       "    .dataframe tbody tr th {\n",
       "        vertical-align: top;\n",
       "    }\n",
       "\n",
       "    .dataframe thead th {\n",
       "        text-align: right;\n",
       "    }\n",
       "</style>\n",
       "<table border=\"1\" class=\"dataframe\">\n",
       "  <thead>\n",
       "    <tr style=\"text-align: right;\">\n",
       "      <th></th>\n",
       "      <th>Hour</th>\n",
       "      <th>Borrar</th>\n",
       "      <th>Climate</th>\n",
       "      <th>Temp</th>\n",
       "      <th>Dew Point</th>\n",
       "      <th>Humidity</th>\n",
       "      <th>Winds</th>\n",
       "      <th>Pressure</th>\n",
       "      <th>Visibility</th>\n",
       "      <th>Precip</th>\n",
       "      <th>date_weather</th>\n",
       "      <th>city_weather</th>\n",
       "    </tr>\n",
       "  </thead>\n",
       "  <tbody>\n",
       "    <tr>\n",
       "      <th>23</th>\n",
       "      <td>16:00</td>\n",
       "      <td>NaN</td>\n",
       "      <td>Cloudy</td>\n",
       "      <td>1</td>\n",
       "      <td>-1</td>\n",
       "      <td>87</td>\n",
       "      <td>NNW 19</td>\n",
       "      <td>1008</td>\n",
       "      <td>19</td>\n",
       "      <td>NaN</td>\n",
       "      <td>2022-1-1</td>\n",
       "      <td>Ottawa</td>\n",
       "    </tr>\n",
       "    <tr>\n",
       "      <th>16</th>\n",
       "      <td>16:00</td>\n",
       "      <td>NaN</td>\n",
       "      <td>Mostly Cloudy</td>\n",
       "      <td>-7</td>\n",
       "      <td>-13</td>\n",
       "      <td>63</td>\n",
       "      <td>E 22</td>\n",
       "      <td>1026</td>\n",
       "      <td>24</td>\n",
       "      <td>NaN</td>\n",
       "      <td>2022-2-1</td>\n",
       "      <td>Ottawa</td>\n",
       "    </tr>\n",
       "    <tr>\n",
       "      <th>25</th>\n",
       "      <td>16:00</td>\n",
       "      <td>NaN</td>\n",
       "      <td>Cloudy with Light Snow</td>\n",
       "      <td>-10</td>\n",
       "      <td>-13</td>\n",
       "      <td>79</td>\n",
       "      <td>ENE 9</td>\n",
       "      <td>1012</td>\n",
       "      <td>10</td>\n",
       "      <td>NaN</td>\n",
       "      <td>2022-3-1</td>\n",
       "      <td>Ottawa</td>\n",
       "    </tr>\n",
       "    <tr>\n",
       "      <th>25</th>\n",
       "      <td>16:00</td>\n",
       "      <td>NaN</td>\n",
       "      <td>Windy with Snow Showers Likely</td>\n",
       "      <td>2</td>\n",
       "      <td>-2</td>\n",
       "      <td>75</td>\n",
       "      <td>WNW 31</td>\n",
       "      <td>1003</td>\n",
       "      <td>10</td>\n",
       "      <td>NaN</td>\n",
       "      <td>2022-4-1</td>\n",
       "      <td>Ottawa</td>\n",
       "    </tr>\n",
       "    <tr>\n",
       "      <th>17</th>\n",
       "      <td>16:00</td>\n",
       "      <td>NaN</td>\n",
       "      <td>Mostly Cloudy</td>\n",
       "      <td>19</td>\n",
       "      <td>0</td>\n",
       "      <td>28</td>\n",
       "      <td>SE 11</td>\n",
       "      <td>1017</td>\n",
       "      <td>24</td>\n",
       "      <td>NaN</td>\n",
       "      <td>2022-5-1</td>\n",
       "      <td>Ottawa</td>\n",
       "    </tr>\n",
       "    <tr>\n",
       "      <th>27</th>\n",
       "      <td>16:00</td>\n",
       "      <td>NaN</td>\n",
       "      <td>Cloudy with Light Rain</td>\n",
       "      <td>17</td>\n",
       "      <td>15</td>\n",
       "      <td>88</td>\n",
       "      <td>E 9</td>\n",
       "      <td>1010</td>\n",
       "      <td>24</td>\n",
       "      <td>NaN</td>\n",
       "      <td>2022-6-1</td>\n",
       "      <td>Ottawa</td>\n",
       "    </tr>\n",
       "    <tr>\n",
       "      <th>16</th>\n",
       "      <td>16:00</td>\n",
       "      <td>NaN</td>\n",
       "      <td>Mostly Cloudy</td>\n",
       "      <td>27</td>\n",
       "      <td>19</td>\n",
       "      <td>62</td>\n",
       "      <td>SSW 20</td>\n",
       "      <td>1010</td>\n",
       "      <td>24</td>\n",
       "      <td>NaN</td>\n",
       "      <td>2022-7-1</td>\n",
       "      <td>Ottawa</td>\n",
       "    </tr>\n",
       "    <tr>\n",
       "      <th>16</th>\n",
       "      <td>16:00</td>\n",
       "      <td>NaN</td>\n",
       "      <td>Mostly Cloudy</td>\n",
       "      <td>27</td>\n",
       "      <td>17</td>\n",
       "      <td>54</td>\n",
       "      <td>S 24</td>\n",
       "      <td>1009</td>\n",
       "      <td>24</td>\n",
       "      <td>NaN</td>\n",
       "      <td>2022-8-1</td>\n",
       "      <td>Ottawa</td>\n",
       "    </tr>\n",
       "    <tr>\n",
       "      <th>17</th>\n",
       "      <td>16:00</td>\n",
       "      <td>NaN</td>\n",
       "      <td>Mostly Cloudy</td>\n",
       "      <td>16</td>\n",
       "      <td>8</td>\n",
       "      <td>59</td>\n",
       "      <td>W 17</td>\n",
       "      <td>1017</td>\n",
       "      <td>24</td>\n",
       "      <td>0.0</td>\n",
       "      <td>2022-9-1</td>\n",
       "      <td>Ottawa</td>\n",
       "    </tr>\n",
       "  </tbody>\n",
       "</table>\n",
       "</div>"
      ],
      "text/plain": [
       "     Hour Borrar                         Climate Temp Dew Point Humidity  \\\n",
       "23  16:00    NaN                          Cloudy    1        -1       87   \n",
       "16  16:00    NaN                   Mostly Cloudy   -7       -13       63   \n",
       "25  16:00    NaN          Cloudy with Light Snow  -10       -13       79   \n",
       "25  16:00    NaN  Windy with Snow Showers Likely    2        -2       75   \n",
       "17  16:00    NaN                   Mostly Cloudy   19         0       28   \n",
       "27  16:00    NaN          Cloudy with Light Rain   17        15       88   \n",
       "16  16:00    NaN                   Mostly Cloudy   27        19       62   \n",
       "16  16:00    NaN                   Mostly Cloudy   27        17       54   \n",
       "17  16:00    NaN                   Mostly Cloudy   16         8       59   \n",
       "\n",
       "     Winds Pressure Visibility Precip date_weather city_weather  \n",
       "23  NNW 19     1008         19    NaN     2022-1-1       Ottawa  \n",
       "16    E 22     1026         24    NaN     2022-2-1       Ottawa  \n",
       "25   ENE 9     1012         10    NaN     2022-3-1       Ottawa  \n",
       "25  WNW 31     1003         10    NaN     2022-4-1       Ottawa  \n",
       "17   SE 11     1017         24    NaN     2022-5-1       Ottawa  \n",
       "27     E 9     1010         24    NaN     2022-6-1       Ottawa  \n",
       "16  SSW 20     1010         24    NaN     2022-7-1       Ottawa  \n",
       "16    S 24     1009         24    NaN     2022-8-1       Ottawa  \n",
       "17    W 17     1017         24    0.0     2022-9-1       Ottawa  "
      ]
     },
     "execution_count": 354,
     "metadata": {},
     "output_type": "execute_result"
    }
   ],
   "source": [
    "canada_clima['city_weather'] = 'Ottawa'\n",
    "\n",
    "canada_clima"
   ]
  },
  {
   "cell_type": "code",
   "execution_count": 360,
   "id": "6f62e872",
   "metadata": {},
   "outputs": [
    {
     "name": "stderr",
     "output_type": "stream",
     "text": [
      "/var/folders/x5/35_m562959z2k_v0h2llkrzr0000gn/T/ipykernel_21870/975501328.py:1: FutureWarning: As the xlwt package is no longer maintained, the xlwt engine will be removed in a future version of pandas. This is the only engine in pandas that supports writing in the xls format. Install openpyxl and write to an xlsx file instead. You can set the option io.excel.xls.writer to 'xlwt' to silence this warning. While this option is deprecated and will also raise a warning, it can be globally set and the warning suppressed.\n",
      "  canada_clima.to_excel('canada_clima.xls', index=False)\n"
     ]
    }
   ],
   "source": [
    "canada_clima.to_excel('canada_clima.xls', index=False)"
   ]
  },
  {
   "cell_type": "code",
   "execution_count": null,
   "id": "7ea89eb8",
   "metadata": {},
   "outputs": [],
   "source": []
  }
 ],
 "metadata": {
  "kernelspec": {
   "display_name": "Python 3 (ipykernel)",
   "language": "python",
   "name": "python3"
  },
  "language_info": {
   "codemirror_mode": {
    "name": "ipython",
    "version": 3
   },
   "file_extension": ".py",
   "mimetype": "text/x-python",
   "name": "python",
   "nbconvert_exporter": "python",
   "pygments_lexer": "ipython3",
   "version": "3.9.7"
  }
 },
 "nbformat": 4,
 "nbformat_minor": 5
}
