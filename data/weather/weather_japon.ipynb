{
 "cells": [
  {
   "cell_type": "code",
   "execution_count": 1,
   "id": "6c3d5b85",
   "metadata": {},
   "outputs": [],
   "source": [
    "import requests as req\n",
    "\n",
    "import pandas as pd\n",
    "\n",
    "import numpy as np\n",
    "\n",
    "from bs4 import BeautifulSoup"
   ]
  },
  {
   "cell_type": "code",
   "execution_count": 2,
   "id": "e447067f",
   "metadata": {},
   "outputs": [],
   "source": [
    "# Enero"
   ]
  },
  {
   "cell_type": "code",
   "execution_count": 3,
   "id": "4ada1e5d",
   "metadata": {},
   "outputs": [],
   "source": [
    "url = 'https://www.aerisweather.com/weather/local/jp/tokyo/history/2022/01/01'"
   ]
  },
  {
   "cell_type": "code",
   "execution_count": 4,
   "id": "fff898aa",
   "metadata": {},
   "outputs": [
    {
     "data": {
      "text/plain": [
       "'\\n\\n<!DOCTYPE html>\\n<html>\\n<head>\\n \\n\\t\\n\\n\\t<meta charset=\"utf-8\">\\n\\t<meta http-equiv=\"X-UA-Compatible\" content=\"IE=edge,chrome=1\">\\n\\n\\t\\t\\t\\t\\t<meta name=\"viewport\" content=\"width=device-width, user-scalable=no\">\\n\\t<meta name=\"referrer\" content=\"no-referrer-when-downgrade\">\\n\\t<meta name=\"google-site-verification\" content=\"zaVWNz8Jzaz9v1j2VX5EGaHxVkyQVs7muWagH-FKm9g\" />\\n\\n\\n\\n\\t<meta name=\"twitter:card\" content=\"summary\" />\\n\\t<meta name=\"twitter:site\" content=\"@AerisWeather\" />\\n\\t<meta name=\"facebook-domain-verification\" content=\"2xslsk2ga5vhyb34835hlozadsli9s\" />\\n\\n\\t<link href=\"//www.aerisweather.com/css/styles.css?v=2022081502\" rel=\"stylesheet\" type=\"text/css\">\\n\\t\\n\\t<script type=\"text/javascript\">\\n\\tvar AerisWx = { rootUrl: \\'//www.aerisweather.com\\' };\\n\\twindow.dataLayer = window.dataLayer || [];\\n\\n\\t</script>\\n\\t\\n\\n\\n\\n<!-- Google Tag Manager (Prod) -->\\n<script>(function(w,d,s,l,i){w[l]=w[l]||[];w[l].push({\\'gtm.start\\':\\nnew Date().getTime(),event:\\'gtm.js\\'});var f=d.getElementsByTagName(s)[0],\\nj=d.createElement(s),dl='"
      ]
     },
     "execution_count": 4,
     "metadata": {},
     "output_type": "execute_result"
    }
   ],
   "source": [
    "html=req.get(url).text\n",
    "\n",
    "html[:1000]"
   ]
  },
  {
   "cell_type": "code",
   "execution_count": 5,
   "id": "c64f3355",
   "metadata": {},
   "outputs": [
    {
     "data": {
      "text/plain": [
       "bs4.BeautifulSoup"
      ]
     },
     "execution_count": 5,
     "metadata": {},
     "output_type": "execute_result"
    }
   ],
   "source": [
    "soup= BeautifulSoup(html, 'html.parser')\n",
    "\n",
    "type(soup)"
   ]
  },
  {
   "cell_type": "code",
   "execution_count": 6,
   "id": "2009d3dc",
   "metadata": {},
   "outputs": [
    {
     "data": {
      "text/html": [
       "<div>\n",
       "<style scoped>\n",
       "    .dataframe tbody tr th:only-of-type {\n",
       "        vertical-align: middle;\n",
       "    }\n",
       "\n",
       "    .dataframe tbody tr th {\n",
       "        vertical-align: top;\n",
       "    }\n",
       "\n",
       "    .dataframe thead th {\n",
       "        text-align: right;\n",
       "    }\n",
       "</style>\n",
       "<table border=\"1\" class=\"dataframe\">\n",
       "  <thead>\n",
       "    <tr style=\"text-align: right;\">\n",
       "      <th></th>\n",
       "      <th>Hour</th>\n",
       "      <th>Borrar</th>\n",
       "      <th>Climate</th>\n",
       "      <th>Temp</th>\n",
       "      <th>Dew Point</th>\n",
       "      <th>Humidity</th>\n",
       "      <th>Winds</th>\n",
       "      <th>Pressure</th>\n",
       "      <th>Visibility</th>\n",
       "      <th>Precip</th>\n",
       "    </tr>\n",
       "  </thead>\n",
       "  <tbody>\n",
       "    <tr>\n",
       "      <th>8</th>\n",
       "      <td>16:00</td>\n",
       "      <td>NaN</td>\n",
       "      <td>Mostly Sunny</td>\n",
       "      <td>6</td>\n",
       "      <td>-15</td>\n",
       "      <td>21</td>\n",
       "      <td>NNW 15</td>\n",
       "      <td>1020</td>\n",
       "      <td>48</td>\n",
       "      <td>NaN</td>\n",
       "    </tr>\n",
       "  </tbody>\n",
       "</table>\n",
       "</div>"
      ],
      "text/plain": [
       "    Hour Borrar       Climate Temp Dew Point Humidity   Winds Pressure  \\\n",
       "8  16:00    NaN  Mostly Sunny    6       -15       21  NNW 15     1020   \n",
       "\n",
       "  Visibility Precip  \n",
       "8         48    NaN  "
      ]
     },
     "execution_count": 6,
     "metadata": {},
     "output_type": "execute_result"
    }
   ],
   "source": [
    "canada_1_1=pd.read_clipboard()\n",
    "\n",
    "canada_1_1 = canada_1_1.T.reset_index().T\n",
    "\n",
    "canada_1_1.columns = [\"Hour\",\"Borrar\",\"Climate\",\"Temp\",\"Dew Point\",\"Humidity\",\"Winds\",\"Pressure\",\"Visibility\", \"Precip\"]\n",
    "\n",
    "canada_1_1 = canada_1_1.reset_index(drop=True)\n",
    "\n",
    "canada_1_1_bien = canada_1_1.iloc [-1:]\n",
    "\n",
    "canada_1_1_bien"
   ]
  },
  {
   "cell_type": "code",
   "execution_count": 312,
   "id": "3518eba9",
   "metadata": {},
   "outputs": [],
   "source": [
    "# Febrero"
   ]
  },
  {
   "cell_type": "code",
   "execution_count": 7,
   "id": "cc46dc65",
   "metadata": {},
   "outputs": [],
   "source": [
    "url ='https://www.aerisweather.com/weather/local/jp/tokyo/history/2022/02/01'"
   ]
  },
  {
   "cell_type": "code",
   "execution_count": 8,
   "id": "1bb6cfb3",
   "metadata": {},
   "outputs": [
    {
     "data": {
      "text/plain": [
       "'\\n\\n<!DOCTYPE html>\\n<html>\\n<head>\\n \\n\\t\\n\\n\\t<meta charset=\"utf-8\">\\n\\t<meta http-equiv=\"X-UA-Compatible\" content=\"IE=edge,chrome=1\">\\n\\n\\t\\t\\t\\t\\t<meta name=\"viewport\" content=\"width=device-width, user-scalable=no\">\\n\\t<meta name=\"referrer\" content=\"no-referrer-when-downgrade\">\\n\\t<meta name=\"google-site-verification\" content=\"zaVWNz8Jzaz9v1j2VX5EGaHxVkyQVs7muWagH-FKm9g\" />\\n\\n\\n\\n\\t<meta name=\"twitter:card\" content=\"summary\" />\\n\\t<meta name=\"twitter:site\" content=\"@AerisWeather\" />\\n\\t<meta name=\"facebook-domain-verification\" content=\"2xslsk2ga5vhyb34835hlozadsli9s\" />\\n\\n\\t<link href=\"//www.aerisweather.com/css/styles.css?v=2022081502\" rel=\"stylesheet\" type=\"text/css\">\\n\\t\\n\\t<script type=\"text/javascript\">\\n\\tvar AerisWx = { rootUrl: \\'//www.aerisweather.com\\' };\\n\\twindow.dataLayer = window.dataLayer || [];\\n\\n\\t</script>\\n\\t\\n\\n\\n\\n<!-- Google Tag Manager (Prod) -->\\n<script>(function(w,d,s,l,i){w[l]=w[l]||[];w[l].push({\\'gtm.start\\':\\nnew Date().getTime(),event:\\'gtm.js\\'});var f=d.getElementsByTagName(s)[0],\\nj=d.createElement(s),dl='"
      ]
     },
     "execution_count": 8,
     "metadata": {},
     "output_type": "execute_result"
    }
   ],
   "source": [
    "html=req.get(url).text\n",
    "\n",
    "html[:1000]"
   ]
  },
  {
   "cell_type": "code",
   "execution_count": 9,
   "id": "b68398bb",
   "metadata": {},
   "outputs": [
    {
     "data": {
      "text/plain": [
       "bs4.BeautifulSoup"
      ]
     },
     "execution_count": 9,
     "metadata": {},
     "output_type": "execute_result"
    }
   ],
   "source": [
    "soup= BeautifulSoup(html, 'html.parser')\n",
    "\n",
    "type(soup)"
   ]
  },
  {
   "cell_type": "code",
   "execution_count": 10,
   "id": "c45ecf7d",
   "metadata": {},
   "outputs": [
    {
     "data": {
      "text/html": [
       "<div>\n",
       "<style scoped>\n",
       "    .dataframe tbody tr th:only-of-type {\n",
       "        vertical-align: middle;\n",
       "    }\n",
       "\n",
       "    .dataframe tbody tr th {\n",
       "        vertical-align: top;\n",
       "    }\n",
       "\n",
       "    .dataframe thead th {\n",
       "        text-align: right;\n",
       "    }\n",
       "</style>\n",
       "<table border=\"1\" class=\"dataframe\">\n",
       "  <thead>\n",
       "    <tr style=\"text-align: right;\">\n",
       "      <th></th>\n",
       "      <th>Hour</th>\n",
       "      <th>Borrar</th>\n",
       "      <th>Climate</th>\n",
       "      <th>Temp</th>\n",
       "      <th>Dew Point</th>\n",
       "      <th>Humidity</th>\n",
       "      <th>Winds</th>\n",
       "      <th>Pressure</th>\n",
       "      <th>Visibility</th>\n",
       "      <th>Precip</th>\n",
       "    </tr>\n",
       "  </thead>\n",
       "  <tbody>\n",
       "    <tr>\n",
       "      <th>8</th>\n",
       "      <td>16:00</td>\n",
       "      <td>NaN</td>\n",
       "      <td>Mostly Sunny</td>\n",
       "      <td>9</td>\n",
       "      <td>-3</td>\n",
       "      <td>43</td>\n",
       "      <td>ESE 6</td>\n",
       "      <td>1012</td>\n",
       "      <td>48</td>\n",
       "      <td>NaN</td>\n",
       "    </tr>\n",
       "  </tbody>\n",
       "</table>\n",
       "</div>"
      ],
      "text/plain": [
       "    Hour Borrar       Climate Temp Dew Point Humidity  Winds Pressure  \\\n",
       "8  16:00    NaN  Mostly Sunny    9        -3       43  ESE 6     1012   \n",
       "\n",
       "  Visibility Precip  \n",
       "8         48    NaN  "
      ]
     },
     "execution_count": 10,
     "metadata": {},
     "output_type": "execute_result"
    }
   ],
   "source": [
    "canada_2_1=pd.read_clipboard()\n",
    "\n",
    "canada_2_1 = canada_2_1.T.reset_index().T\n",
    "\n",
    "canada_2_1.columns = [\"Hour\",\"Borrar\",\"Climate\",\"Temp\",\"Dew Point\",\"Humidity\",\"Winds\",\"Pressure\",\"Visibility\", \"Precip\"]\n",
    "\n",
    "canada_2_1 = canada_2_1.reset_index(drop=True)\n",
    "\n",
    "canada_2_1_bien = canada_2_1.iloc [-1:]\n",
    "\n",
    "canada_2_1_bien"
   ]
  },
  {
   "cell_type": "code",
   "execution_count": 317,
   "id": "ffdf33e5",
   "metadata": {},
   "outputs": [],
   "source": [
    "# Marzo"
   ]
  },
  {
   "cell_type": "code",
   "execution_count": 11,
   "id": "95660d49",
   "metadata": {},
   "outputs": [],
   "source": [
    "url = 'https://www.aerisweather.com/weather/local/jp/tokyo/history/2022/03/01'"
   ]
  },
  {
   "cell_type": "code",
   "execution_count": 12,
   "id": "0eceba70",
   "metadata": {},
   "outputs": [
    {
     "data": {
      "text/plain": [
       "'\\n\\n<!DOCTYPE html>\\n<html>\\n<head>\\n \\n\\t\\n\\n\\t<meta charset=\"utf-8\">\\n\\t<meta http-equiv=\"X-UA-Compatible\" content=\"IE=edge,chrome=1\">\\n\\n\\t\\t\\t\\t\\t<meta name=\"viewport\" content=\"width=device-width, user-scalable=no\">\\n\\t<meta name=\"referrer\" content=\"no-referrer-when-downgrade\">\\n\\t<meta name=\"google-site-verification\" content=\"zaVWNz8Jzaz9v1j2VX5EGaHxVkyQVs7muWagH-FKm9g\" />\\n\\n\\n\\n\\t<meta name=\"twitter:card\" content=\"summary\" />\\n\\t<meta name=\"twitter:site\" content=\"@AerisWeather\" />\\n\\t<meta name=\"facebook-domain-verification\" content=\"2xslsk2ga5vhyb34835hlozadsli9s\" />\\n\\n\\t<link href=\"//www.aerisweather.com/css/styles.css?v=2022081502\" rel=\"stylesheet\" type=\"text/css\">\\n\\t\\n\\t<script type=\"text/javascript\">\\n\\tvar AerisWx = { rootUrl: \\'//www.aerisweather.com\\' };\\n\\twindow.dataLayer = window.dataLayer || [];\\n\\n\\t</script>\\n\\t\\n\\n\\n\\n<!-- Google Tag Manager (Prod) -->\\n<script>(function(w,d,s,l,i){w[l]=w[l]||[];w[l].push({\\'gtm.start\\':\\nnew Date().getTime(),event:\\'gtm.js\\'});var f=d.getElementsByTagName(s)[0],\\nj=d.createElement(s),dl='"
      ]
     },
     "execution_count": 12,
     "metadata": {},
     "output_type": "execute_result"
    }
   ],
   "source": [
    "html=req.get(url).text\n",
    "\n",
    "html[:1000]"
   ]
  },
  {
   "cell_type": "code",
   "execution_count": 13,
   "id": "acc52109",
   "metadata": {},
   "outputs": [
    {
     "data": {
      "text/plain": [
       "bs4.BeautifulSoup"
      ]
     },
     "execution_count": 13,
     "metadata": {},
     "output_type": "execute_result"
    }
   ],
   "source": [
    "soup= BeautifulSoup(html, 'html.parser')\n",
    "\n",
    "type(soup)"
   ]
  },
  {
   "cell_type": "code",
   "execution_count": 14,
   "id": "3922843a",
   "metadata": {},
   "outputs": [
    {
     "data": {
      "text/html": [
       "<div>\n",
       "<style scoped>\n",
       "    .dataframe tbody tr th:only-of-type {\n",
       "        vertical-align: middle;\n",
       "    }\n",
       "\n",
       "    .dataframe tbody tr th {\n",
       "        vertical-align: top;\n",
       "    }\n",
       "\n",
       "    .dataframe thead th {\n",
       "        text-align: right;\n",
       "    }\n",
       "</style>\n",
       "<table border=\"1\" class=\"dataframe\">\n",
       "  <thead>\n",
       "    <tr style=\"text-align: right;\">\n",
       "      <th></th>\n",
       "      <th>Hour</th>\n",
       "      <th>Borrar</th>\n",
       "      <th>Climate</th>\n",
       "      <th>Temp</th>\n",
       "      <th>Dew Point</th>\n",
       "      <th>Humidity</th>\n",
       "      <th>Winds</th>\n",
       "      <th>Pressure</th>\n",
       "      <th>Visibility</th>\n",
       "      <th>Precip</th>\n",
       "    </tr>\n",
       "  </thead>\n",
       "  <tbody>\n",
       "    <tr>\n",
       "      <th>8</th>\n",
       "      <td>16:00</td>\n",
       "      <td>NaN</td>\n",
       "      <td>Mostly Cloudy</td>\n",
       "      <td>16</td>\n",
       "      <td>4</td>\n",
       "      <td>45</td>\n",
       "      <td>WSW 19</td>\n",
       "      <td>1008</td>\n",
       "      <td>48</td>\n",
       "      <td>NaN</td>\n",
       "    </tr>\n",
       "  </tbody>\n",
       "</table>\n",
       "</div>"
      ],
      "text/plain": [
       "    Hour Borrar        Climate Temp Dew Point Humidity   Winds Pressure  \\\n",
       "8  16:00    NaN  Mostly Cloudy   16         4       45  WSW 19     1008   \n",
       "\n",
       "  Visibility Precip  \n",
       "8         48    NaN  "
      ]
     },
     "execution_count": 14,
     "metadata": {},
     "output_type": "execute_result"
    }
   ],
   "source": [
    "canada_3_1=pd.read_clipboard()\n",
    "\n",
    "canada_3_1 = canada_3_1.T.reset_index().T\n",
    "\n",
    "canada_3_1.columns = [\"Hour\",\"Borrar\",\"Climate\",\"Temp\",\"Dew Point\",\"Humidity\",\"Winds\",\"Pressure\",\"Visibility\", \"Precip\"]\n",
    "\n",
    "canada_3_1 = canada_3_1.reset_index(drop=True)\n",
    "\n",
    "canada_3_1_bien = canada_3_1.iloc [-1:]\n",
    "\n",
    "canada_3_1_bien"
   ]
  },
  {
   "cell_type": "code",
   "execution_count": 322,
   "id": "47459be7",
   "metadata": {},
   "outputs": [],
   "source": [
    "# Abril"
   ]
  },
  {
   "cell_type": "code",
   "execution_count": 15,
   "id": "1488b39a",
   "metadata": {},
   "outputs": [],
   "source": [
    "url ='https://www.aerisweather.com/weather/local/jp/tokyo/history/2022/04/01'"
   ]
  },
  {
   "cell_type": "code",
   "execution_count": 16,
   "id": "69939f4f",
   "metadata": {},
   "outputs": [
    {
     "data": {
      "text/plain": [
       "'\\n\\n<!DOCTYPE html>\\n<html>\\n<head>\\n \\n\\t\\n\\n\\t<meta charset=\"utf-8\">\\n\\t<meta http-equiv=\"X-UA-Compatible\" content=\"IE=edge,chrome=1\">\\n\\n\\t\\t\\t\\t\\t<meta name=\"viewport\" content=\"width=device-width, user-scalable=no\">\\n\\t<meta name=\"referrer\" content=\"no-referrer-when-downgrade\">\\n\\t<meta name=\"google-site-verification\" content=\"zaVWNz8Jzaz9v1j2VX5EGaHxVkyQVs7muWagH-FKm9g\" />\\n\\n\\n\\n\\t<meta name=\"twitter:card\" content=\"summary\" />\\n\\t<meta name=\"twitter:site\" content=\"@AerisWeather\" />\\n\\t<meta name=\"facebook-domain-verification\" content=\"2xslsk2ga5vhyb34835hlozadsli9s\" />\\n\\n\\t<link href=\"//www.aerisweather.com/css/styles.css?v=2022081502\" rel=\"stylesheet\" type=\"text/css\">\\n\\t\\n\\t<script type=\"text/javascript\">\\n\\tvar AerisWx = { rootUrl: \\'//www.aerisweather.com\\' };\\n\\twindow.dataLayer = window.dataLayer || [];\\n\\n\\t</script>\\n\\t\\n\\n\\n\\n<!-- Google Tag Manager (Prod) -->\\n<script>(function(w,d,s,l,i){w[l]=w[l]||[];w[l].push({\\'gtm.start\\':\\nnew Date().getTime(),event:\\'gtm.js\\'});var f=d.getElementsByTagName(s)[0],\\nj=d.createElement(s),dl='"
      ]
     },
     "execution_count": 16,
     "metadata": {},
     "output_type": "execute_result"
    }
   ],
   "source": [
    "html=req.get(url).text\n",
    "\n",
    "html[:1000]"
   ]
  },
  {
   "cell_type": "code",
   "execution_count": 17,
   "id": "e3cccd57",
   "metadata": {},
   "outputs": [
    {
     "data": {
      "text/plain": [
       "bs4.BeautifulSoup"
      ]
     },
     "execution_count": 17,
     "metadata": {},
     "output_type": "execute_result"
    }
   ],
   "source": [
    "soup= BeautifulSoup(html, 'html.parser')\n",
    "\n",
    "type(soup)"
   ]
  },
  {
   "cell_type": "code",
   "execution_count": 18,
   "id": "20e802f9",
   "metadata": {},
   "outputs": [
    {
     "data": {
      "text/html": [
       "<div>\n",
       "<style scoped>\n",
       "    .dataframe tbody tr th:only-of-type {\n",
       "        vertical-align: middle;\n",
       "    }\n",
       "\n",
       "    .dataframe tbody tr th {\n",
       "        vertical-align: top;\n",
       "    }\n",
       "\n",
       "    .dataframe thead th {\n",
       "        text-align: right;\n",
       "    }\n",
       "</style>\n",
       "<table border=\"1\" class=\"dataframe\">\n",
       "  <thead>\n",
       "    <tr style=\"text-align: right;\">\n",
       "      <th></th>\n",
       "      <th>Hour</th>\n",
       "      <th>Borrar</th>\n",
       "      <th>Climate</th>\n",
       "      <th>Temp</th>\n",
       "      <th>Dew Point</th>\n",
       "      <th>Humidity</th>\n",
       "      <th>Winds</th>\n",
       "      <th>Pressure</th>\n",
       "      <th>Visibility</th>\n",
       "      <th>Precip</th>\n",
       "    </tr>\n",
       "  </thead>\n",
       "  <tbody>\n",
       "    <tr>\n",
       "      <th>8</th>\n",
       "      <td>16:00</td>\n",
       "      <td>NaN</td>\n",
       "      <td>Mostly Sunny</td>\n",
       "      <td>12</td>\n",
       "      <td>-10</td>\n",
       "      <td>21</td>\n",
       "      <td>NNW 20</td>\n",
       "      <td>1021</td>\n",
       "      <td>48</td>\n",
       "      <td>NaN</td>\n",
       "    </tr>\n",
       "  </tbody>\n",
       "</table>\n",
       "</div>"
      ],
      "text/plain": [
       "    Hour Borrar       Climate Temp Dew Point Humidity   Winds Pressure  \\\n",
       "8  16:00    NaN  Mostly Sunny   12       -10       21  NNW 20     1021   \n",
       "\n",
       "  Visibility Precip  \n",
       "8         48    NaN  "
      ]
     },
     "execution_count": 18,
     "metadata": {},
     "output_type": "execute_result"
    }
   ],
   "source": [
    "canada_4_1=pd.read_clipboard()\n",
    "\n",
    "canada_4_1 = canada_4_1.T.reset_index().T\n",
    "\n",
    "canada_4_1.columns = [\"Hour\",\"Borrar\",\"Climate\",\"Temp\",\"Dew Point\",\"Humidity\",\"Winds\",\"Pressure\",\"Visibility\", \"Precip\"]\n",
    "\n",
    "canada_4_1 = canada_4_1.reset_index(drop=True)\n",
    "\n",
    "canada_4_1_bien = canada_4_1.iloc [-1:]\n",
    "\n",
    "canada_4_1_bien"
   ]
  },
  {
   "cell_type": "code",
   "execution_count": 327,
   "id": "f4fb8513",
   "metadata": {},
   "outputs": [],
   "source": [
    "# Mayo"
   ]
  },
  {
   "cell_type": "code",
   "execution_count": 19,
   "id": "fb757cfd",
   "metadata": {},
   "outputs": [],
   "source": [
    "url = 'https://www.aerisweather.com/weather/local/jp/tokyo/history/2022/05/01'"
   ]
  },
  {
   "cell_type": "code",
   "execution_count": 20,
   "id": "1d70e777",
   "metadata": {},
   "outputs": [
    {
     "data": {
      "text/plain": [
       "'\\n\\n<!DOCTYPE html>\\n<html>\\n<head>\\n \\n\\t\\n\\n\\t<meta charset=\"utf-8\">\\n\\t<meta http-equiv=\"X-UA-Compatible\" content=\"IE=edge,chrome=1\">\\n\\n\\t\\t\\t\\t\\t<meta name=\"viewport\" content=\"width=device-width, user-scalable=no\">\\n\\t<meta name=\"referrer\" content=\"no-referrer-when-downgrade\">\\n\\t<meta name=\"google-site-verification\" content=\"zaVWNz8Jzaz9v1j2VX5EGaHxVkyQVs7muWagH-FKm9g\" />\\n\\n\\n\\n\\t<meta name=\"twitter:card\" content=\"summary\" />\\n\\t<meta name=\"twitter:site\" content=\"@AerisWeather\" />\\n\\t<meta name=\"facebook-domain-verification\" content=\"2xslsk2ga5vhyb34835hlozadsli9s\" />\\n\\n\\t<link href=\"//www.aerisweather.com/css/styles.css?v=2022081502\" rel=\"stylesheet\" type=\"text/css\">\\n\\t\\n\\t<script type=\"text/javascript\">\\n\\tvar AerisWx = { rootUrl: \\'//www.aerisweather.com\\' };\\n\\twindow.dataLayer = window.dataLayer || [];\\n\\n\\t</script>\\n\\t\\n\\n\\n\\n<!-- Google Tag Manager (Prod) -->\\n<script>(function(w,d,s,l,i){w[l]=w[l]||[];w[l].push({\\'gtm.start\\':\\nnew Date().getTime(),event:\\'gtm.js\\'});var f=d.getElementsByTagName(s)[0],\\nj=d.createElement(s),dl='"
      ]
     },
     "execution_count": 20,
     "metadata": {},
     "output_type": "execute_result"
    }
   ],
   "source": [
    "html=req.get(url).text\n",
    "\n",
    "html[:1000]"
   ]
  },
  {
   "cell_type": "code",
   "execution_count": 21,
   "id": "abad9b1c",
   "metadata": {},
   "outputs": [
    {
     "data": {
      "text/plain": [
       "bs4.BeautifulSoup"
      ]
     },
     "execution_count": 21,
     "metadata": {},
     "output_type": "execute_result"
    }
   ],
   "source": [
    "soup= BeautifulSoup(html, 'html.parser')\n",
    "\n",
    "type(soup)"
   ]
  },
  {
   "cell_type": "code",
   "execution_count": 22,
   "id": "aa06e0f1",
   "metadata": {},
   "outputs": [
    {
     "data": {
      "text/html": [
       "<div>\n",
       "<style scoped>\n",
       "    .dataframe tbody tr th:only-of-type {\n",
       "        vertical-align: middle;\n",
       "    }\n",
       "\n",
       "    .dataframe tbody tr th {\n",
       "        vertical-align: top;\n",
       "    }\n",
       "\n",
       "    .dataframe thead th {\n",
       "        text-align: right;\n",
       "    }\n",
       "</style>\n",
       "<table border=\"1\" class=\"dataframe\">\n",
       "  <thead>\n",
       "    <tr style=\"text-align: right;\">\n",
       "      <th></th>\n",
       "      <th>Hour</th>\n",
       "      <th>Borrar</th>\n",
       "      <th>Climate</th>\n",
       "      <th>Temp</th>\n",
       "      <th>Dew Point</th>\n",
       "      <th>Humidity</th>\n",
       "      <th>Winds</th>\n",
       "      <th>Pressure</th>\n",
       "      <th>Visibility</th>\n",
       "      <th>Precip</th>\n",
       "    </tr>\n",
       "  </thead>\n",
       "  <tbody>\n",
       "    <tr>\n",
       "      <th>10</th>\n",
       "      <td>16:00</td>\n",
       "      <td>NaN</td>\n",
       "      <td>Mostly Cloudy with Light Showers</td>\n",
       "      <td>13</td>\n",
       "      <td>12</td>\n",
       "      <td>94</td>\n",
       "      <td>NNW 11</td>\n",
       "      <td>1007</td>\n",
       "      <td>4</td>\n",
       "      <td>NaN</td>\n",
       "    </tr>\n",
       "  </tbody>\n",
       "</table>\n",
       "</div>"
      ],
      "text/plain": [
       "     Hour Borrar                           Climate Temp Dew Point Humidity  \\\n",
       "10  16:00    NaN  Mostly Cloudy with Light Showers   13        12       94   \n",
       "\n",
       "     Winds Pressure Visibility Precip  \n",
       "10  NNW 11     1007          4    NaN  "
      ]
     },
     "execution_count": 22,
     "metadata": {},
     "output_type": "execute_result"
    }
   ],
   "source": [
    "canada_5_1=pd.read_clipboard()\n",
    "\n",
    "canada_5_1 = canada_5_1.T.reset_index().T\n",
    "\n",
    "canada_5_1.columns = [\"Hour\",\"Borrar\",\"Climate\",\"Temp\",\"Dew Point\",\"Humidity\",\"Winds\",\"Pressure\",\"Visibility\", \"Precip\"]\n",
    "\n",
    "canada_5_1 = canada_5_1.reset_index(drop=True)\n",
    "\n",
    "canada_5_1_bien = canada_5_1.iloc [-1:]\n",
    "\n",
    "canada_5_1_bien"
   ]
  },
  {
   "cell_type": "code",
   "execution_count": 332,
   "id": "b3df96ac",
   "metadata": {},
   "outputs": [],
   "source": [
    "# Junio"
   ]
  },
  {
   "cell_type": "code",
   "execution_count": 23,
   "id": "d72189f4",
   "metadata": {},
   "outputs": [],
   "source": [
    "url = 'https://www.aerisweather.com/weather/local/jp/tokyo/history/2022/06/01'"
   ]
  },
  {
   "cell_type": "code",
   "execution_count": 24,
   "id": "28f37724",
   "metadata": {},
   "outputs": [
    {
     "data": {
      "text/plain": [
       "'\\n\\n<!DOCTYPE html>\\n<html>\\n<head>\\n \\n\\t\\n\\n\\t<meta charset=\"utf-8\">\\n\\t<meta http-equiv=\"X-UA-Compatible\" content=\"IE=edge,chrome=1\">\\n\\n\\t\\t\\t\\t\\t<meta name=\"viewport\" content=\"width=device-width, user-scalable=no\">\\n\\t<meta name=\"referrer\" content=\"no-referrer-when-downgrade\">\\n\\t<meta name=\"google-site-verification\" content=\"zaVWNz8Jzaz9v1j2VX5EGaHxVkyQVs7muWagH-FKm9g\" />\\n\\n\\n\\n\\t<meta name=\"twitter:card\" content=\"summary\" />\\n\\t<meta name=\"twitter:site\" content=\"@AerisWeather\" />\\n\\t<meta name=\"facebook-domain-verification\" content=\"2xslsk2ga5vhyb34835hlozadsli9s\" />\\n\\n\\t<link href=\"//www.aerisweather.com/css/styles.css?v=2022081502\" rel=\"stylesheet\" type=\"text/css\">\\n\\t\\n\\t<script type=\"text/javascript\">\\n\\tvar AerisWx = { rootUrl: \\'//www.aerisweather.com\\' };\\n\\twindow.dataLayer = window.dataLayer || [];\\n\\n\\t</script>\\n\\t\\n\\n\\n\\n<!-- Google Tag Manager (Prod) -->\\n<script>(function(w,d,s,l,i){w[l]=w[l]||[];w[l].push({\\'gtm.start\\':\\nnew Date().getTime(),event:\\'gtm.js\\'});var f=d.getElementsByTagName(s)[0],\\nj=d.createElement(s),dl='"
      ]
     },
     "execution_count": 24,
     "metadata": {},
     "output_type": "execute_result"
    }
   ],
   "source": [
    "html=req.get(url).text\n",
    "\n",
    "html[:1000]"
   ]
  },
  {
   "cell_type": "code",
   "execution_count": 25,
   "id": "b1150739",
   "metadata": {},
   "outputs": [
    {
     "data": {
      "text/plain": [
       "bs4.BeautifulSoup"
      ]
     },
     "execution_count": 25,
     "metadata": {},
     "output_type": "execute_result"
    }
   ],
   "source": [
    "soup= BeautifulSoup(html, 'html.parser')\n",
    "\n",
    "type(soup)"
   ]
  },
  {
   "cell_type": "code",
   "execution_count": 26,
   "id": "55af3274",
   "metadata": {},
   "outputs": [
    {
     "data": {
      "text/html": [
       "<div>\n",
       "<style scoped>\n",
       "    .dataframe tbody tr th:only-of-type {\n",
       "        vertical-align: middle;\n",
       "    }\n",
       "\n",
       "    .dataframe tbody tr th {\n",
       "        vertical-align: top;\n",
       "    }\n",
       "\n",
       "    .dataframe thead th {\n",
       "        text-align: right;\n",
       "    }\n",
       "</style>\n",
       "<table border=\"1\" class=\"dataframe\">\n",
       "  <thead>\n",
       "    <tr style=\"text-align: right;\">\n",
       "      <th></th>\n",
       "      <th>Hour</th>\n",
       "      <th>Borrar</th>\n",
       "      <th>Climate</th>\n",
       "      <th>Temp</th>\n",
       "      <th>Dew Point</th>\n",
       "      <th>Humidity</th>\n",
       "      <th>Winds</th>\n",
       "      <th>Pressure</th>\n",
       "      <th>Visibility</th>\n",
       "      <th>Precip</th>\n",
       "    </tr>\n",
       "  </thead>\n",
       "  <tbody>\n",
       "    <tr>\n",
       "      <th>8</th>\n",
       "      <td>16:00</td>\n",
       "      <td>NaN</td>\n",
       "      <td>Mostly Sunny</td>\n",
       "      <td>24</td>\n",
       "      <td>13</td>\n",
       "      <td>50</td>\n",
       "      <td>S 9</td>\n",
       "      <td>1007</td>\n",
       "      <td>48</td>\n",
       "      <td>NaN</td>\n",
       "    </tr>\n",
       "  </tbody>\n",
       "</table>\n",
       "</div>"
      ],
      "text/plain": [
       "    Hour Borrar       Climate Temp Dew Point Humidity Winds Pressure  \\\n",
       "8  16:00    NaN  Mostly Sunny   24        13       50   S 9     1007   \n",
       "\n",
       "  Visibility Precip  \n",
       "8         48    NaN  "
      ]
     },
     "execution_count": 26,
     "metadata": {},
     "output_type": "execute_result"
    }
   ],
   "source": [
    "canada_6_1=pd.read_clipboard()\n",
    "\n",
    "canada_6_1 = canada_6_1.T.reset_index().T\n",
    "\n",
    "canada_6_1.columns = [\"Hour\",\"Borrar\",\"Climate\",\"Temp\",\"Dew Point\",\"Humidity\",\"Winds\",\"Pressure\",\"Visibility\", \"Precip\"]\n",
    "\n",
    "canada_6_1 = canada_6_1.reset_index(drop=True)\n",
    "\n",
    "canada_6_1_bien = canada_6_1.iloc [-1:]\n",
    "\n",
    "canada_6_1_bien"
   ]
  },
  {
   "cell_type": "code",
   "execution_count": 337,
   "id": "08fc6c54",
   "metadata": {},
   "outputs": [],
   "source": [
    "# Julio"
   ]
  },
  {
   "cell_type": "code",
   "execution_count": 27,
   "id": "e7b525d8",
   "metadata": {},
   "outputs": [],
   "source": [
    "url = 'https://www.aerisweather.com/weather/local/jp/tokyo/history/2022/07/01'"
   ]
  },
  {
   "cell_type": "code",
   "execution_count": 28,
   "id": "53661700",
   "metadata": {},
   "outputs": [
    {
     "data": {
      "text/plain": [
       "'\\n\\n<!DOCTYPE html>\\n<html>\\n<head>\\n \\n\\t\\n\\n\\t<meta charset=\"utf-8\">\\n\\t<meta http-equiv=\"X-UA-Compatible\" content=\"IE=edge,chrome=1\">\\n\\n\\t\\t\\t\\t\\t<meta name=\"viewport\" content=\"width=device-width, user-scalable=no\">\\n\\t<meta name=\"referrer\" content=\"no-referrer-when-downgrade\">\\n\\t<meta name=\"google-site-verification\" content=\"zaVWNz8Jzaz9v1j2VX5EGaHxVkyQVs7muWagH-FKm9g\" />\\n\\n\\n\\n\\t<meta name=\"twitter:card\" content=\"summary\" />\\n\\t<meta name=\"twitter:site\" content=\"@AerisWeather\" />\\n\\t<meta name=\"facebook-domain-verification\" content=\"2xslsk2ga5vhyb34835hlozadsli9s\" />\\n\\n\\t<link href=\"//www.aerisweather.com/css/styles.css?v=2022081502\" rel=\"stylesheet\" type=\"text/css\">\\n\\t\\n\\t<script type=\"text/javascript\">\\n\\tvar AerisWx = { rootUrl: \\'//www.aerisweather.com\\' };\\n\\twindow.dataLayer = window.dataLayer || [];\\n\\n\\t</script>\\n\\t\\n\\n\\n\\n<!-- Google Tag Manager (Prod) -->\\n<script>(function(w,d,s,l,i){w[l]=w[l]||[];w[l].push({\\'gtm.start\\':\\nnew Date().getTime(),event:\\'gtm.js\\'});var f=d.getElementsByTagName(s)[0],\\nj=d.createElement(s),dl='"
      ]
     },
     "execution_count": 28,
     "metadata": {},
     "output_type": "execute_result"
    }
   ],
   "source": [
    "html=req.get(url).text\n",
    "\n",
    "html[:1000]"
   ]
  },
  {
   "cell_type": "code",
   "execution_count": 29,
   "id": "10a05bec",
   "metadata": {},
   "outputs": [
    {
     "data": {
      "text/plain": [
       "bs4.BeautifulSoup"
      ]
     },
     "execution_count": 29,
     "metadata": {},
     "output_type": "execute_result"
    }
   ],
   "source": [
    "soup= BeautifulSoup(html, 'html.parser')\n",
    "\n",
    "type(soup)"
   ]
  },
  {
   "cell_type": "code",
   "execution_count": 30,
   "id": "336a3e8a",
   "metadata": {},
   "outputs": [
    {
     "data": {
      "text/html": [
       "<div>\n",
       "<style scoped>\n",
       "    .dataframe tbody tr th:only-of-type {\n",
       "        vertical-align: middle;\n",
       "    }\n",
       "\n",
       "    .dataframe tbody tr th {\n",
       "        vertical-align: top;\n",
       "    }\n",
       "\n",
       "    .dataframe thead th {\n",
       "        text-align: right;\n",
       "    }\n",
       "</style>\n",
       "<table border=\"1\" class=\"dataframe\">\n",
       "  <thead>\n",
       "    <tr style=\"text-align: right;\">\n",
       "      <th></th>\n",
       "      <th>Hour</th>\n",
       "      <th>Borrar</th>\n",
       "      <th>Climate</th>\n",
       "      <th>Temp</th>\n",
       "      <th>Dew Point</th>\n",
       "      <th>Humidity</th>\n",
       "      <th>Winds</th>\n",
       "      <th>Pressure</th>\n",
       "      <th>Visibility</th>\n",
       "      <th>Precip</th>\n",
       "    </tr>\n",
       "  </thead>\n",
       "  <tbody>\n",
       "    <tr>\n",
       "      <th>9</th>\n",
       "      <td>16:00</td>\n",
       "      <td>NaN</td>\n",
       "      <td>Mostly Sunny</td>\n",
       "      <td>30</td>\n",
       "      <td>25</td>\n",
       "      <td>75</td>\n",
       "      <td>S 20</td>\n",
       "      <td>1013</td>\n",
       "      <td>48</td>\n",
       "      <td>NaN</td>\n",
       "    </tr>\n",
       "  </tbody>\n",
       "</table>\n",
       "</div>"
      ],
      "text/plain": [
       "    Hour Borrar       Climate Temp Dew Point Humidity Winds Pressure  \\\n",
       "9  16:00    NaN  Mostly Sunny   30        25       75  S 20     1013   \n",
       "\n",
       "  Visibility Precip  \n",
       "9         48    NaN  "
      ]
     },
     "execution_count": 30,
     "metadata": {},
     "output_type": "execute_result"
    }
   ],
   "source": [
    "canada_7_1=pd.read_clipboard()\n",
    "\n",
    "canada_7_1 = canada_7_1.T.reset_index().T\n",
    "\n",
    "canada_7_1.columns = [\"Hour\",\"Borrar\",\"Climate\",\"Temp\",\"Dew Point\",\"Humidity\",\"Winds\",\"Pressure\",\"Visibility\", \"Precip\"]\n",
    "\n",
    "canada_7_1 = canada_7_1.reset_index(drop=True)\n",
    "\n",
    "canada_7_1_bien = canada_7_1.iloc [-1:]\n",
    "\n",
    "canada_7_1_bien"
   ]
  },
  {
   "cell_type": "code",
   "execution_count": 342,
   "id": "6d1d1a88",
   "metadata": {},
   "outputs": [],
   "source": [
    "# Agosto"
   ]
  },
  {
   "cell_type": "code",
   "execution_count": 31,
   "id": "40c4ae2e",
   "metadata": {},
   "outputs": [],
   "source": [
    "url = 'https://www.aerisweather.com/weather/local/jp/tokyo/history/2022/08/01'"
   ]
  },
  {
   "cell_type": "code",
   "execution_count": 32,
   "id": "9257bc60",
   "metadata": {},
   "outputs": [
    {
     "data": {
      "text/plain": [
       "'\\n\\n<!DOCTYPE html>\\n<html>\\n<head>\\n \\n\\t\\n\\n\\t<meta charset=\"utf-8\">\\n\\t<meta http-equiv=\"X-UA-Compatible\" content=\"IE=edge,chrome=1\">\\n\\n\\t\\t\\t\\t\\t<meta name=\"viewport\" content=\"width=device-width, user-scalable=no\">\\n\\t<meta name=\"referrer\" content=\"no-referrer-when-downgrade\">\\n\\t<meta name=\"google-site-verification\" content=\"zaVWNz8Jzaz9v1j2VX5EGaHxVkyQVs7muWagH-FKm9g\" />\\n\\n\\n\\n\\t<meta name=\"twitter:card\" content=\"summary\" />\\n\\t<meta name=\"twitter:site\" content=\"@AerisWeather\" />\\n\\t<meta name=\"facebook-domain-verification\" content=\"2xslsk2ga5vhyb34835hlozadsli9s\" />\\n\\n\\t<link href=\"//www.aerisweather.com/css/styles.css?v=2022081502\" rel=\"stylesheet\" type=\"text/css\">\\n\\t\\n\\t<script type=\"text/javascript\">\\n\\tvar AerisWx = { rootUrl: \\'//www.aerisweather.com\\' };\\n\\twindow.dataLayer = window.dataLayer || [];\\n\\n\\t</script>\\n\\t\\n\\n\\n\\n<!-- Google Tag Manager (Prod) -->\\n<script>(function(w,d,s,l,i){w[l]=w[l]||[];w[l].push({\\'gtm.start\\':\\nnew Date().getTime(),event:\\'gtm.js\\'});var f=d.getElementsByTagName(s)[0],\\nj=d.createElement(s),dl='"
      ]
     },
     "execution_count": 32,
     "metadata": {},
     "output_type": "execute_result"
    }
   ],
   "source": [
    "html=req.get(url).text\n",
    "\n",
    "html[:1000]"
   ]
  },
  {
   "cell_type": "code",
   "execution_count": 33,
   "id": "27ff2ae4",
   "metadata": {},
   "outputs": [
    {
     "data": {
      "text/plain": [
       "bs4.BeautifulSoup"
      ]
     },
     "execution_count": 33,
     "metadata": {},
     "output_type": "execute_result"
    }
   ],
   "source": [
    "soup= BeautifulSoup(html, 'html.parser')\n",
    "\n",
    "type(soup)"
   ]
  },
  {
   "cell_type": "code",
   "execution_count": 34,
   "id": "69e0f69b",
   "metadata": {},
   "outputs": [
    {
     "data": {
      "text/html": [
       "<div>\n",
       "<style scoped>\n",
       "    .dataframe tbody tr th:only-of-type {\n",
       "        vertical-align: middle;\n",
       "    }\n",
       "\n",
       "    .dataframe tbody tr th {\n",
       "        vertical-align: top;\n",
       "    }\n",
       "\n",
       "    .dataframe thead th {\n",
       "        text-align: right;\n",
       "    }\n",
       "</style>\n",
       "<table border=\"1\" class=\"dataframe\">\n",
       "  <thead>\n",
       "    <tr style=\"text-align: right;\">\n",
       "      <th></th>\n",
       "      <th>Hour</th>\n",
       "      <th>Borrar</th>\n",
       "      <th>Climate</th>\n",
       "      <th>Temp</th>\n",
       "      <th>Dew Point</th>\n",
       "      <th>Humidity</th>\n",
       "      <th>Winds</th>\n",
       "      <th>Pressure</th>\n",
       "      <th>Visibility</th>\n",
       "      <th>Precip</th>\n",
       "    </tr>\n",
       "  </thead>\n",
       "  <tbody>\n",
       "    <tr>\n",
       "      <th>8</th>\n",
       "      <td>16:00</td>\n",
       "      <td>NaN</td>\n",
       "      <td>Mostly Sunny</td>\n",
       "      <td>31</td>\n",
       "      <td>26</td>\n",
       "      <td>75</td>\n",
       "      <td>S 20</td>\n",
       "      <td>1011</td>\n",
       "      <td>48</td>\n",
       "      <td>NaN</td>\n",
       "    </tr>\n",
       "  </tbody>\n",
       "</table>\n",
       "</div>"
      ],
      "text/plain": [
       "    Hour Borrar       Climate Temp Dew Point Humidity Winds Pressure  \\\n",
       "8  16:00    NaN  Mostly Sunny   31        26       75  S 20     1011   \n",
       "\n",
       "  Visibility Precip  \n",
       "8         48    NaN  "
      ]
     },
     "execution_count": 34,
     "metadata": {},
     "output_type": "execute_result"
    }
   ],
   "source": [
    "canada_8_1=pd.read_clipboard()\n",
    "\n",
    "canada_8_1 = canada_8_1.T.reset_index().T\n",
    "\n",
    "canada_8_1.columns = [\"Hour\",\"Borrar\",\"Climate\",\"Temp\",\"Dew Point\",\"Humidity\",\"Winds\",\"Pressure\",\"Visibility\", \"Precip\"]\n",
    "\n",
    "canada_8_1 = canada_8_1.reset_index(drop=True)\n",
    "\n",
    "canada_8_1_bien = canada_8_1.iloc [-1:]\n",
    "\n",
    "canada_8_1_bien"
   ]
  },
  {
   "cell_type": "code",
   "execution_count": 347,
   "id": "c2392551",
   "metadata": {},
   "outputs": [],
   "source": [
    "# Septiembre"
   ]
  },
  {
   "cell_type": "code",
   "execution_count": 35,
   "id": "58fdc8b0",
   "metadata": {},
   "outputs": [],
   "source": [
    "url = 'https://www.aerisweather.com/weather/local/jp/tokyo/history/2022/09/01'"
   ]
  },
  {
   "cell_type": "code",
   "execution_count": 36,
   "id": "f9b05ebd",
   "metadata": {},
   "outputs": [
    {
     "data": {
      "text/plain": [
       "'\\n\\n<!DOCTYPE html>\\n<html>\\n<head>\\n \\n\\t\\n\\n\\t<meta charset=\"utf-8\">\\n\\t<meta http-equiv=\"X-UA-Compatible\" content=\"IE=edge,chrome=1\">\\n\\n\\t\\t\\t\\t\\t<meta name=\"viewport\" content=\"width=device-width, user-scalable=no\">\\n\\t<meta name=\"referrer\" content=\"no-referrer-when-downgrade\">\\n\\t<meta name=\"google-site-verification\" content=\"zaVWNz8Jzaz9v1j2VX5EGaHxVkyQVs7muWagH-FKm9g\" />\\n\\n\\n\\n\\t<meta name=\"twitter:card\" content=\"summary\" />\\n\\t<meta name=\"twitter:site\" content=\"@AerisWeather\" />\\n\\t<meta name=\"facebook-domain-verification\" content=\"2xslsk2ga5vhyb34835hlozadsli9s\" />\\n\\n\\t<link href=\"//www.aerisweather.com/css/styles.css?v=2022081502\" rel=\"stylesheet\" type=\"text/css\">\\n\\t\\n\\t<script type=\"text/javascript\">\\n\\tvar AerisWx = { rootUrl: \\'//www.aerisweather.com\\' };\\n\\twindow.dataLayer = window.dataLayer || [];\\n\\n\\t</script>\\n\\t\\n\\n\\n\\n<!-- Google Tag Manager (Prod) -->\\n<script>(function(w,d,s,l,i){w[l]=w[l]||[];w[l].push({\\'gtm.start\\':\\nnew Date().getTime(),event:\\'gtm.js\\'});var f=d.getElementsByTagName(s)[0],\\nj=d.createElement(s),dl='"
      ]
     },
     "execution_count": 36,
     "metadata": {},
     "output_type": "execute_result"
    }
   ],
   "source": [
    "html=req.get(url).text\n",
    "\n",
    "html[:1000]"
   ]
  },
  {
   "cell_type": "code",
   "execution_count": 37,
   "id": "281a3c5a",
   "metadata": {},
   "outputs": [
    {
     "data": {
      "text/plain": [
       "bs4.BeautifulSoup"
      ]
     },
     "execution_count": 37,
     "metadata": {},
     "output_type": "execute_result"
    }
   ],
   "source": [
    "soup= BeautifulSoup(html, 'html.parser')\n",
    "\n",
    "type(soup)"
   ]
  },
  {
   "cell_type": "code",
   "execution_count": 38,
   "id": "e7026301",
   "metadata": {},
   "outputs": [
    {
     "data": {
      "text/html": [
       "<div>\n",
       "<style scoped>\n",
       "    .dataframe tbody tr th:only-of-type {\n",
       "        vertical-align: middle;\n",
       "    }\n",
       "\n",
       "    .dataframe tbody tr th {\n",
       "        vertical-align: top;\n",
       "    }\n",
       "\n",
       "    .dataframe thead th {\n",
       "        text-align: right;\n",
       "    }\n",
       "</style>\n",
       "<table border=\"1\" class=\"dataframe\">\n",
       "  <thead>\n",
       "    <tr style=\"text-align: right;\">\n",
       "      <th></th>\n",
       "      <th>Hour</th>\n",
       "      <th>Borrar</th>\n",
       "      <th>Climate</th>\n",
       "      <th>Temp</th>\n",
       "      <th>Dew Point</th>\n",
       "      <th>Humidity</th>\n",
       "      <th>Winds</th>\n",
       "      <th>Pressure</th>\n",
       "      <th>Visibility</th>\n",
       "      <th>Precip</th>\n",
       "    </tr>\n",
       "  </thead>\n",
       "  <tbody>\n",
       "    <tr>\n",
       "      <th>10</th>\n",
       "      <td>16:00</td>\n",
       "      <td>NaN</td>\n",
       "      <td>Partly Cloudy</td>\n",
       "      <td>28</td>\n",
       "      <td>26</td>\n",
       "      <td>89</td>\n",
       "      <td>S 15</td>\n",
       "      <td>1010</td>\n",
       "      <td>10</td>\n",
       "      <td>0.0</td>\n",
       "    </tr>\n",
       "  </tbody>\n",
       "</table>\n",
       "</div>"
      ],
      "text/plain": [
       "     Hour Borrar        Climate Temp Dew Point Humidity Winds Pressure  \\\n",
       "10  16:00    NaN  Partly Cloudy   28        26       89  S 15     1010   \n",
       "\n",
       "   Visibility Precip  \n",
       "10         10    0.0  "
      ]
     },
     "execution_count": 38,
     "metadata": {},
     "output_type": "execute_result"
    }
   ],
   "source": [
    "canada_9_1=pd.read_clipboard()\n",
    "\n",
    "canada_9_1 = canada_9_1.T.reset_index().T\n",
    "\n",
    "canada_9_1.columns = [\"Hour\",\"Borrar\",\"Climate\",\"Temp\",\"Dew Point\",\"Humidity\",\"Winds\",\"Pressure\",\"Visibility\", \"Precip\"]\n",
    "\n",
    "canada_9_1 = canada_9_1.reset_index(drop=True)\n",
    "\n",
    "canada_9_1_bien = canada_9_1.iloc [-1:]\n",
    "\n",
    "canada_9_1_bien"
   ]
  },
  {
   "cell_type": "code",
   "execution_count": 39,
   "id": "fe258000",
   "metadata": {},
   "outputs": [
    {
     "data": {
      "text/html": [
       "<div>\n",
       "<style scoped>\n",
       "    .dataframe tbody tr th:only-of-type {\n",
       "        vertical-align: middle;\n",
       "    }\n",
       "\n",
       "    .dataframe tbody tr th {\n",
       "        vertical-align: top;\n",
       "    }\n",
       "\n",
       "    .dataframe thead th {\n",
       "        text-align: right;\n",
       "    }\n",
       "</style>\n",
       "<table border=\"1\" class=\"dataframe\">\n",
       "  <thead>\n",
       "    <tr style=\"text-align: right;\">\n",
       "      <th></th>\n",
       "      <th>Hour</th>\n",
       "      <th>Borrar</th>\n",
       "      <th>Climate</th>\n",
       "      <th>Temp</th>\n",
       "      <th>Dew Point</th>\n",
       "      <th>Humidity</th>\n",
       "      <th>Winds</th>\n",
       "      <th>Pressure</th>\n",
       "      <th>Visibility</th>\n",
       "      <th>Precip</th>\n",
       "    </tr>\n",
       "  </thead>\n",
       "  <tbody>\n",
       "    <tr>\n",
       "      <th>8</th>\n",
       "      <td>16:00</td>\n",
       "      <td>NaN</td>\n",
       "      <td>Mostly Sunny</td>\n",
       "      <td>6</td>\n",
       "      <td>-15</td>\n",
       "      <td>21</td>\n",
       "      <td>NNW 15</td>\n",
       "      <td>1020</td>\n",
       "      <td>48</td>\n",
       "      <td>NaN</td>\n",
       "    </tr>\n",
       "    <tr>\n",
       "      <th>8</th>\n",
       "      <td>16:00</td>\n",
       "      <td>NaN</td>\n",
       "      <td>Mostly Sunny</td>\n",
       "      <td>9</td>\n",
       "      <td>-3</td>\n",
       "      <td>43</td>\n",
       "      <td>ESE 6</td>\n",
       "      <td>1012</td>\n",
       "      <td>48</td>\n",
       "      <td>NaN</td>\n",
       "    </tr>\n",
       "    <tr>\n",
       "      <th>8</th>\n",
       "      <td>16:00</td>\n",
       "      <td>NaN</td>\n",
       "      <td>Mostly Cloudy</td>\n",
       "      <td>16</td>\n",
       "      <td>4</td>\n",
       "      <td>45</td>\n",
       "      <td>WSW 19</td>\n",
       "      <td>1008</td>\n",
       "      <td>48</td>\n",
       "      <td>NaN</td>\n",
       "    </tr>\n",
       "    <tr>\n",
       "      <th>8</th>\n",
       "      <td>16:00</td>\n",
       "      <td>NaN</td>\n",
       "      <td>Mostly Sunny</td>\n",
       "      <td>12</td>\n",
       "      <td>-10</td>\n",
       "      <td>21</td>\n",
       "      <td>NNW 20</td>\n",
       "      <td>1021</td>\n",
       "      <td>48</td>\n",
       "      <td>NaN</td>\n",
       "    </tr>\n",
       "    <tr>\n",
       "      <th>10</th>\n",
       "      <td>16:00</td>\n",
       "      <td>NaN</td>\n",
       "      <td>Mostly Cloudy with Light Showers</td>\n",
       "      <td>13</td>\n",
       "      <td>12</td>\n",
       "      <td>94</td>\n",
       "      <td>NNW 11</td>\n",
       "      <td>1007</td>\n",
       "      <td>4</td>\n",
       "      <td>NaN</td>\n",
       "    </tr>\n",
       "    <tr>\n",
       "      <th>8</th>\n",
       "      <td>16:00</td>\n",
       "      <td>NaN</td>\n",
       "      <td>Mostly Sunny</td>\n",
       "      <td>24</td>\n",
       "      <td>13</td>\n",
       "      <td>50</td>\n",
       "      <td>S 9</td>\n",
       "      <td>1007</td>\n",
       "      <td>48</td>\n",
       "      <td>NaN</td>\n",
       "    </tr>\n",
       "    <tr>\n",
       "      <th>9</th>\n",
       "      <td>16:00</td>\n",
       "      <td>NaN</td>\n",
       "      <td>Mostly Sunny</td>\n",
       "      <td>30</td>\n",
       "      <td>25</td>\n",
       "      <td>75</td>\n",
       "      <td>S 20</td>\n",
       "      <td>1013</td>\n",
       "      <td>48</td>\n",
       "      <td>NaN</td>\n",
       "    </tr>\n",
       "    <tr>\n",
       "      <th>8</th>\n",
       "      <td>16:00</td>\n",
       "      <td>NaN</td>\n",
       "      <td>Mostly Sunny</td>\n",
       "      <td>31</td>\n",
       "      <td>26</td>\n",
       "      <td>75</td>\n",
       "      <td>S 20</td>\n",
       "      <td>1011</td>\n",
       "      <td>48</td>\n",
       "      <td>NaN</td>\n",
       "    </tr>\n",
       "    <tr>\n",
       "      <th>10</th>\n",
       "      <td>16:00</td>\n",
       "      <td>NaN</td>\n",
       "      <td>Partly Cloudy</td>\n",
       "      <td>28</td>\n",
       "      <td>26</td>\n",
       "      <td>89</td>\n",
       "      <td>S 15</td>\n",
       "      <td>1010</td>\n",
       "      <td>10</td>\n",
       "      <td>0.0</td>\n",
       "    </tr>\n",
       "  </tbody>\n",
       "</table>\n",
       "</div>"
      ],
      "text/plain": [
       "     Hour Borrar                           Climate Temp Dew Point Humidity  \\\n",
       "8   16:00    NaN                      Mostly Sunny    6       -15       21   \n",
       "8   16:00    NaN                      Mostly Sunny    9        -3       43   \n",
       "8   16:00    NaN                     Mostly Cloudy   16         4       45   \n",
       "8   16:00    NaN                      Mostly Sunny   12       -10       21   \n",
       "10  16:00    NaN  Mostly Cloudy with Light Showers   13        12       94   \n",
       "8   16:00    NaN                      Mostly Sunny   24        13       50   \n",
       "9   16:00    NaN                      Mostly Sunny   30        25       75   \n",
       "8   16:00    NaN                      Mostly Sunny   31        26       75   \n",
       "10  16:00    NaN                     Partly Cloudy   28        26       89   \n",
       "\n",
       "     Winds Pressure Visibility Precip  \n",
       "8   NNW 15     1020         48    NaN  \n",
       "8    ESE 6     1012         48    NaN  \n",
       "8   WSW 19     1008         48    NaN  \n",
       "8   NNW 20     1021         48    NaN  \n",
       "10  NNW 11     1007          4    NaN  \n",
       "8      S 9     1007         48    NaN  \n",
       "9     S 20     1013         48    NaN  \n",
       "8     S 20     1011         48    NaN  \n",
       "10    S 15     1010         10    0.0  "
      ]
     },
     "execution_count": 39,
     "metadata": {},
     "output_type": "execute_result"
    }
   ],
   "source": [
    "japon_clima = pd.concat([canada_1_1_bien, canada_2_1_bien, canada_3_1_bien, canada_4_1_bien, canada_5_1_bien, canada_6_1_bien, canada_7_1_bien, canada_8_1_bien, canada_9_1_bien], axis=0)\n",
    "\n",
    "japon_clima"
   ]
  },
  {
   "cell_type": "code",
   "execution_count": null,
   "id": "4f7042ae",
   "metadata": {},
   "outputs": [],
   "source": []
  },
  {
   "cell_type": "code",
   "execution_count": 40,
   "id": "a9ff3e10",
   "metadata": {},
   "outputs": [
    {
     "data": {
      "text/html": [
       "<div>\n",
       "<style scoped>\n",
       "    .dataframe tbody tr th:only-of-type {\n",
       "        vertical-align: middle;\n",
       "    }\n",
       "\n",
       "    .dataframe tbody tr th {\n",
       "        vertical-align: top;\n",
       "    }\n",
       "\n",
       "    .dataframe thead th {\n",
       "        text-align: right;\n",
       "    }\n",
       "</style>\n",
       "<table border=\"1\" class=\"dataframe\">\n",
       "  <thead>\n",
       "    <tr style=\"text-align: right;\">\n",
       "      <th></th>\n",
       "      <th>Hour</th>\n",
       "      <th>Borrar</th>\n",
       "      <th>Climate</th>\n",
       "      <th>Temp</th>\n",
       "      <th>Dew Point</th>\n",
       "      <th>Humidity</th>\n",
       "      <th>Winds</th>\n",
       "      <th>Pressure</th>\n",
       "      <th>Visibility</th>\n",
       "      <th>Precip</th>\n",
       "      <th>date_weather</th>\n",
       "    </tr>\n",
       "  </thead>\n",
       "  <tbody>\n",
       "    <tr>\n",
       "      <th>8</th>\n",
       "      <td>16:00</td>\n",
       "      <td>NaN</td>\n",
       "      <td>Mostly Sunny</td>\n",
       "      <td>6</td>\n",
       "      <td>-15</td>\n",
       "      <td>21</td>\n",
       "      <td>NNW 15</td>\n",
       "      <td>1020</td>\n",
       "      <td>48</td>\n",
       "      <td>NaN</td>\n",
       "      <td>2022-1-1</td>\n",
       "    </tr>\n",
       "    <tr>\n",
       "      <th>8</th>\n",
       "      <td>16:00</td>\n",
       "      <td>NaN</td>\n",
       "      <td>Mostly Sunny</td>\n",
       "      <td>9</td>\n",
       "      <td>-3</td>\n",
       "      <td>43</td>\n",
       "      <td>ESE 6</td>\n",
       "      <td>1012</td>\n",
       "      <td>48</td>\n",
       "      <td>NaN</td>\n",
       "      <td>2022-2-1</td>\n",
       "    </tr>\n",
       "    <tr>\n",
       "      <th>8</th>\n",
       "      <td>16:00</td>\n",
       "      <td>NaN</td>\n",
       "      <td>Mostly Cloudy</td>\n",
       "      <td>16</td>\n",
       "      <td>4</td>\n",
       "      <td>45</td>\n",
       "      <td>WSW 19</td>\n",
       "      <td>1008</td>\n",
       "      <td>48</td>\n",
       "      <td>NaN</td>\n",
       "      <td>2022-3-1</td>\n",
       "    </tr>\n",
       "    <tr>\n",
       "      <th>8</th>\n",
       "      <td>16:00</td>\n",
       "      <td>NaN</td>\n",
       "      <td>Mostly Sunny</td>\n",
       "      <td>12</td>\n",
       "      <td>-10</td>\n",
       "      <td>21</td>\n",
       "      <td>NNW 20</td>\n",
       "      <td>1021</td>\n",
       "      <td>48</td>\n",
       "      <td>NaN</td>\n",
       "      <td>2022-4-1</td>\n",
       "    </tr>\n",
       "    <tr>\n",
       "      <th>10</th>\n",
       "      <td>16:00</td>\n",
       "      <td>NaN</td>\n",
       "      <td>Mostly Cloudy with Light Showers</td>\n",
       "      <td>13</td>\n",
       "      <td>12</td>\n",
       "      <td>94</td>\n",
       "      <td>NNW 11</td>\n",
       "      <td>1007</td>\n",
       "      <td>4</td>\n",
       "      <td>NaN</td>\n",
       "      <td>2022-5-1</td>\n",
       "    </tr>\n",
       "    <tr>\n",
       "      <th>8</th>\n",
       "      <td>16:00</td>\n",
       "      <td>NaN</td>\n",
       "      <td>Mostly Sunny</td>\n",
       "      <td>24</td>\n",
       "      <td>13</td>\n",
       "      <td>50</td>\n",
       "      <td>S 9</td>\n",
       "      <td>1007</td>\n",
       "      <td>48</td>\n",
       "      <td>NaN</td>\n",
       "      <td>2022-6-1</td>\n",
       "    </tr>\n",
       "    <tr>\n",
       "      <th>9</th>\n",
       "      <td>16:00</td>\n",
       "      <td>NaN</td>\n",
       "      <td>Mostly Sunny</td>\n",
       "      <td>30</td>\n",
       "      <td>25</td>\n",
       "      <td>75</td>\n",
       "      <td>S 20</td>\n",
       "      <td>1013</td>\n",
       "      <td>48</td>\n",
       "      <td>NaN</td>\n",
       "      <td>2022-7-1</td>\n",
       "    </tr>\n",
       "    <tr>\n",
       "      <th>8</th>\n",
       "      <td>16:00</td>\n",
       "      <td>NaN</td>\n",
       "      <td>Mostly Sunny</td>\n",
       "      <td>31</td>\n",
       "      <td>26</td>\n",
       "      <td>75</td>\n",
       "      <td>S 20</td>\n",
       "      <td>1011</td>\n",
       "      <td>48</td>\n",
       "      <td>NaN</td>\n",
       "      <td>2022-8-1</td>\n",
       "    </tr>\n",
       "    <tr>\n",
       "      <th>10</th>\n",
       "      <td>16:00</td>\n",
       "      <td>NaN</td>\n",
       "      <td>Partly Cloudy</td>\n",
       "      <td>28</td>\n",
       "      <td>26</td>\n",
       "      <td>89</td>\n",
       "      <td>S 15</td>\n",
       "      <td>1010</td>\n",
       "      <td>10</td>\n",
       "      <td>0.0</td>\n",
       "      <td>2022-9-1</td>\n",
       "    </tr>\n",
       "  </tbody>\n",
       "</table>\n",
       "</div>"
      ],
      "text/plain": [
       "     Hour Borrar                           Climate Temp Dew Point Humidity  \\\n",
       "8   16:00    NaN                      Mostly Sunny    6       -15       21   \n",
       "8   16:00    NaN                      Mostly Sunny    9        -3       43   \n",
       "8   16:00    NaN                     Mostly Cloudy   16         4       45   \n",
       "8   16:00    NaN                      Mostly Sunny   12       -10       21   \n",
       "10  16:00    NaN  Mostly Cloudy with Light Showers   13        12       94   \n",
       "8   16:00    NaN                      Mostly Sunny   24        13       50   \n",
       "9   16:00    NaN                      Mostly Sunny   30        25       75   \n",
       "8   16:00    NaN                      Mostly Sunny   31        26       75   \n",
       "10  16:00    NaN                     Partly Cloudy   28        26       89   \n",
       "\n",
       "     Winds Pressure Visibility Precip date_weather  \n",
       "8   NNW 15     1020         48    NaN     2022-1-1  \n",
       "8    ESE 6     1012         48    NaN     2022-2-1  \n",
       "8   WSW 19     1008         48    NaN     2022-3-1  \n",
       "8   NNW 20     1021         48    NaN     2022-4-1  \n",
       "10  NNW 11     1007          4    NaN     2022-5-1  \n",
       "8      S 9     1007         48    NaN     2022-6-1  \n",
       "9     S 20     1013         48    NaN     2022-7-1  \n",
       "8     S 20     1011         48    NaN     2022-8-1  \n",
       "10    S 15     1010         10    0.0     2022-9-1  "
      ]
     },
     "execution_count": 40,
     "metadata": {},
     "output_type": "execute_result"
    }
   ],
   "source": [
    "japon_clima['date_weather'] = ('2022-1-1', '2022-2-1', '2022-3-1', '2022-4-1', '2022-5-1', '2022-6-1', '2022-7-1', '2022-8-1', '2022-9-1')\n",
    "\n",
    "japon_clima"
   ]
  },
  {
   "cell_type": "code",
   "execution_count": 41,
   "id": "9d97ac8a",
   "metadata": {},
   "outputs": [
    {
     "data": {
      "text/html": [
       "<div>\n",
       "<style scoped>\n",
       "    .dataframe tbody tr th:only-of-type {\n",
       "        vertical-align: middle;\n",
       "    }\n",
       "\n",
       "    .dataframe tbody tr th {\n",
       "        vertical-align: top;\n",
       "    }\n",
       "\n",
       "    .dataframe thead th {\n",
       "        text-align: right;\n",
       "    }\n",
       "</style>\n",
       "<table border=\"1\" class=\"dataframe\">\n",
       "  <thead>\n",
       "    <tr style=\"text-align: right;\">\n",
       "      <th></th>\n",
       "      <th>Hour</th>\n",
       "      <th>Borrar</th>\n",
       "      <th>Climate</th>\n",
       "      <th>Temp</th>\n",
       "      <th>Dew Point</th>\n",
       "      <th>Humidity</th>\n",
       "      <th>Winds</th>\n",
       "      <th>Pressure</th>\n",
       "      <th>Visibility</th>\n",
       "      <th>Precip</th>\n",
       "      <th>date_weather</th>\n",
       "      <th>city_weather</th>\n",
       "    </tr>\n",
       "  </thead>\n",
       "  <tbody>\n",
       "    <tr>\n",
       "      <th>8</th>\n",
       "      <td>16:00</td>\n",
       "      <td>NaN</td>\n",
       "      <td>Mostly Sunny</td>\n",
       "      <td>6</td>\n",
       "      <td>-15</td>\n",
       "      <td>21</td>\n",
       "      <td>NNW 15</td>\n",
       "      <td>1020</td>\n",
       "      <td>48</td>\n",
       "      <td>NaN</td>\n",
       "      <td>2022-1-1</td>\n",
       "      <td>Tokyo</td>\n",
       "    </tr>\n",
       "    <tr>\n",
       "      <th>8</th>\n",
       "      <td>16:00</td>\n",
       "      <td>NaN</td>\n",
       "      <td>Mostly Sunny</td>\n",
       "      <td>9</td>\n",
       "      <td>-3</td>\n",
       "      <td>43</td>\n",
       "      <td>ESE 6</td>\n",
       "      <td>1012</td>\n",
       "      <td>48</td>\n",
       "      <td>NaN</td>\n",
       "      <td>2022-2-1</td>\n",
       "      <td>Tokyo</td>\n",
       "    </tr>\n",
       "    <tr>\n",
       "      <th>8</th>\n",
       "      <td>16:00</td>\n",
       "      <td>NaN</td>\n",
       "      <td>Mostly Cloudy</td>\n",
       "      <td>16</td>\n",
       "      <td>4</td>\n",
       "      <td>45</td>\n",
       "      <td>WSW 19</td>\n",
       "      <td>1008</td>\n",
       "      <td>48</td>\n",
       "      <td>NaN</td>\n",
       "      <td>2022-3-1</td>\n",
       "      <td>Tokyo</td>\n",
       "    </tr>\n",
       "    <tr>\n",
       "      <th>8</th>\n",
       "      <td>16:00</td>\n",
       "      <td>NaN</td>\n",
       "      <td>Mostly Sunny</td>\n",
       "      <td>12</td>\n",
       "      <td>-10</td>\n",
       "      <td>21</td>\n",
       "      <td>NNW 20</td>\n",
       "      <td>1021</td>\n",
       "      <td>48</td>\n",
       "      <td>NaN</td>\n",
       "      <td>2022-4-1</td>\n",
       "      <td>Tokyo</td>\n",
       "    </tr>\n",
       "    <tr>\n",
       "      <th>10</th>\n",
       "      <td>16:00</td>\n",
       "      <td>NaN</td>\n",
       "      <td>Mostly Cloudy with Light Showers</td>\n",
       "      <td>13</td>\n",
       "      <td>12</td>\n",
       "      <td>94</td>\n",
       "      <td>NNW 11</td>\n",
       "      <td>1007</td>\n",
       "      <td>4</td>\n",
       "      <td>NaN</td>\n",
       "      <td>2022-5-1</td>\n",
       "      <td>Tokyo</td>\n",
       "    </tr>\n",
       "    <tr>\n",
       "      <th>8</th>\n",
       "      <td>16:00</td>\n",
       "      <td>NaN</td>\n",
       "      <td>Mostly Sunny</td>\n",
       "      <td>24</td>\n",
       "      <td>13</td>\n",
       "      <td>50</td>\n",
       "      <td>S 9</td>\n",
       "      <td>1007</td>\n",
       "      <td>48</td>\n",
       "      <td>NaN</td>\n",
       "      <td>2022-6-1</td>\n",
       "      <td>Tokyo</td>\n",
       "    </tr>\n",
       "    <tr>\n",
       "      <th>9</th>\n",
       "      <td>16:00</td>\n",
       "      <td>NaN</td>\n",
       "      <td>Mostly Sunny</td>\n",
       "      <td>30</td>\n",
       "      <td>25</td>\n",
       "      <td>75</td>\n",
       "      <td>S 20</td>\n",
       "      <td>1013</td>\n",
       "      <td>48</td>\n",
       "      <td>NaN</td>\n",
       "      <td>2022-7-1</td>\n",
       "      <td>Tokyo</td>\n",
       "    </tr>\n",
       "    <tr>\n",
       "      <th>8</th>\n",
       "      <td>16:00</td>\n",
       "      <td>NaN</td>\n",
       "      <td>Mostly Sunny</td>\n",
       "      <td>31</td>\n",
       "      <td>26</td>\n",
       "      <td>75</td>\n",
       "      <td>S 20</td>\n",
       "      <td>1011</td>\n",
       "      <td>48</td>\n",
       "      <td>NaN</td>\n",
       "      <td>2022-8-1</td>\n",
       "      <td>Tokyo</td>\n",
       "    </tr>\n",
       "    <tr>\n",
       "      <th>10</th>\n",
       "      <td>16:00</td>\n",
       "      <td>NaN</td>\n",
       "      <td>Partly Cloudy</td>\n",
       "      <td>28</td>\n",
       "      <td>26</td>\n",
       "      <td>89</td>\n",
       "      <td>S 15</td>\n",
       "      <td>1010</td>\n",
       "      <td>10</td>\n",
       "      <td>0.0</td>\n",
       "      <td>2022-9-1</td>\n",
       "      <td>Tokyo</td>\n",
       "    </tr>\n",
       "  </tbody>\n",
       "</table>\n",
       "</div>"
      ],
      "text/plain": [
       "     Hour Borrar                           Climate Temp Dew Point Humidity  \\\n",
       "8   16:00    NaN                      Mostly Sunny    6       -15       21   \n",
       "8   16:00    NaN                      Mostly Sunny    9        -3       43   \n",
       "8   16:00    NaN                     Mostly Cloudy   16         4       45   \n",
       "8   16:00    NaN                      Mostly Sunny   12       -10       21   \n",
       "10  16:00    NaN  Mostly Cloudy with Light Showers   13        12       94   \n",
       "8   16:00    NaN                      Mostly Sunny   24        13       50   \n",
       "9   16:00    NaN                      Mostly Sunny   30        25       75   \n",
       "8   16:00    NaN                      Mostly Sunny   31        26       75   \n",
       "10  16:00    NaN                     Partly Cloudy   28        26       89   \n",
       "\n",
       "     Winds Pressure Visibility Precip date_weather city_weather  \n",
       "8   NNW 15     1020         48    NaN     2022-1-1        Tokyo  \n",
       "8    ESE 6     1012         48    NaN     2022-2-1        Tokyo  \n",
       "8   WSW 19     1008         48    NaN     2022-3-1        Tokyo  \n",
       "8   NNW 20     1021         48    NaN     2022-4-1        Tokyo  \n",
       "10  NNW 11     1007          4    NaN     2022-5-1        Tokyo  \n",
       "8      S 9     1007         48    NaN     2022-6-1        Tokyo  \n",
       "9     S 20     1013         48    NaN     2022-7-1        Tokyo  \n",
       "8     S 20     1011         48    NaN     2022-8-1        Tokyo  \n",
       "10    S 15     1010         10    0.0     2022-9-1        Tokyo  "
      ]
     },
     "execution_count": 41,
     "metadata": {},
     "output_type": "execute_result"
    }
   ],
   "source": [
    "japon_clima['city_weather'] = 'Tokyo'\n",
    "\n",
    "japon_clima"
   ]
  },
  {
   "cell_type": "code",
   "execution_count": 43,
   "id": "6f62e872",
   "metadata": {},
   "outputs": [
    {
     "name": "stderr",
     "output_type": "stream",
     "text": [
      "/var/folders/x5/35_m562959z2k_v0h2llkrzr0000gn/T/ipykernel_30406/4137815139.py:1: FutureWarning: As the xlwt package is no longer maintained, the xlwt engine will be removed in a future version of pandas. This is the only engine in pandas that supports writing in the xls format. Install openpyxl and write to an xlsx file instead. You can set the option io.excel.xls.writer to 'xlwt' to silence this warning. While this option is deprecated and will also raise a warning, it can be globally set and the warning suppressed.\n",
      "  japon_clima.to_excel('japon_clima.xls', index=False)\n"
     ]
    }
   ],
   "source": [
    "japon_clima.to_excel('japon_clima.xls', index=False)"
   ]
  },
  {
   "cell_type": "code",
   "execution_count": null,
   "id": "7ea89eb8",
   "metadata": {},
   "outputs": [],
   "source": []
  },
  {
   "cell_type": "code",
   "execution_count": null,
   "id": "b208d5c1",
   "metadata": {},
   "outputs": [],
   "source": []
  }
 ],
 "metadata": {
  "kernelspec": {
   "display_name": "Python 3 (ipykernel)",
   "language": "python",
   "name": "python3"
  },
  "language_info": {
   "codemirror_mode": {
    "name": "ipython",
    "version": 3
   },
   "file_extension": ".py",
   "mimetype": "text/x-python",
   "name": "python",
   "nbconvert_exporter": "python",
   "pygments_lexer": "ipython3",
   "version": "3.9.7"
  }
 },
 "nbformat": 4,
 "nbformat_minor": 5
}
